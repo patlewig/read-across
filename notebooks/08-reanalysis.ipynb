{
 "cells": [
  {
   "cell_type": "markdown",
   "id": "42262e72-1bf1-41df-8d61-96af67318b14",
   "metadata": {},
   "source": [
    "#### Investigating the metabolic similarity"
   ]
  },
  {
   "cell_type": "code",
   "execution_count": 1,
   "id": "40734c79-8c08-4356-893f-cdaa3c192d40",
   "metadata": {},
   "outputs": [],
   "source": [
    "import numpy as np\n",
    "import pandas as pd\n",
    "import matplotlib.pyplot as plt\n",
    "import seaborn as sns\n",
    "%matplotlib inline\n",
    "import openpyxl\n",
    "from rdkit.Chem.Draw import IPythonConsole, MolsToGridImage\n",
    "\n",
    "#Show mols in dataframes\n",
    "from rdkit.Chem import PandasTools\n",
    "from rdkit import Chem\n",
    "from rdkit.Chem.Draw import MolsToGridImage\n",
    "from IPython.core.display import HTML\n",
    "from rdkit.Chem import Descriptors\n",
    "from rdkit.ML.Descriptors import MoleculeDescriptors\n",
    "from rdkit.Chem import PandasTools\n",
    "from rdkit.Chem import AllChem\n",
    "from rdkit.Chem import rdDepictor\n",
    "from rdkit.Chem.Fingerprints import FingerprintMols\n",
    "from rdkit import DataStructs\n",
    "import os\n",
    "from scipy.spatial.distance import pdist, squareform\n",
    "import sys"
   ]
  },
  {
   "cell_type": "code",
   "execution_count": 2,
   "id": "afe51f16-ce10-4840-b83b-5ad0724ff473",
   "metadata": {},
   "outputs": [],
   "source": [
    "TOP = os.getcwd().replace('notebooks', '')\n",
    "raw_dir = TOP + 'data/raw/'\n",
    "interim_dir = TOP + 'data/interim/'\n",
    "external_dir = TOP + 'data/external/'\n",
    "figures_dir = TOP + 'reports/figures/'\n",
    "processed_dir = TOP + 'data/processed/'"
   ]
  },
  {
   "cell_type": "code",
   "execution_count": 5,
   "id": "b6c8cc63-5424-46c0-af3e-82a33261d3d5",
   "metadata": {},
   "outputs": [],
   "source": [
    "final_df = pd.read_csv(processed_dir+'final_df_220224.csv', index_col = [0,1])"
   ]
  },
  {
   "cell_type": "code",
   "execution_count": 6,
   "id": "781906e0-9563-422b-9624-e7b1e9010f8c",
   "metadata": {},
   "outputs": [
    {
     "data": {
      "text/html": [
       "<div>\n",
       "<style scoped>\n",
       "    .dataframe tbody tr th:only-of-type {\n",
       "        vertical-align: middle;\n",
       "    }\n",
       "\n",
       "    .dataframe tbody tr th {\n",
       "        vertical-align: top;\n",
       "    }\n",
       "\n",
       "    .dataframe thead th {\n",
       "        text-align: right;\n",
       "    }\n",
       "</style>\n",
       "<table border=\"1\" class=\"dataframe\">\n",
       "  <thead>\n",
       "    <tr style=\"text-align: right;\">\n",
       "      <th></th>\n",
       "      <th></th>\n",
       "      <th>struct_sim</th>\n",
       "      <th>alert_sim</th>\n",
       "      <th>metabs_sim</th>\n",
       "      <th>transformation_sim</th>\n",
       "      <th>WL</th>\n",
       "      <th>phys_sim</th>\n",
       "      <th>Label</th>\n",
       "    </tr>\n",
       "    <tr>\n",
       "      <th>Target</th>\n",
       "      <th>Analogue</th>\n",
       "      <th></th>\n",
       "      <th></th>\n",
       "      <th></th>\n",
       "      <th></th>\n",
       "      <th></th>\n",
       "      <th></th>\n",
       "      <th></th>\n",
       "    </tr>\n",
       "  </thead>\n",
       "  <tbody>\n",
       "    <tr>\n",
       "      <th rowspan=\"5\" valign=\"top\">DTXSID1027269</th>\n",
       "      <th>DTXSID1027269</th>\n",
       "      <td>1.000000</td>\n",
       "      <td>1.0</td>\n",
       "      <td>1.000000</td>\n",
       "      <td>1.000000</td>\n",
       "      <td>1.000000</td>\n",
       "      <td>1.000000</td>\n",
       "      <td>0.0</td>\n",
       "    </tr>\n",
       "    <tr>\n",
       "      <th>DTXSID5026914</th>\n",
       "      <td>1.000000</td>\n",
       "      <td>1.0</td>\n",
       "      <td>0.047619</td>\n",
       "      <td>0.866667</td>\n",
       "      <td>0.155979</td>\n",
       "      <td>0.855037</td>\n",
       "      <td>0.0</td>\n",
       "    </tr>\n",
       "    <tr>\n",
       "      <th>DTXSID4027367</th>\n",
       "      <td>1.000000</td>\n",
       "      <td>1.0</td>\n",
       "      <td>0.061644</td>\n",
       "      <td>0.866667</td>\n",
       "      <td>0.144200</td>\n",
       "      <td>0.929802</td>\n",
       "      <td>1.0</td>\n",
       "    </tr>\n",
       "    <tr>\n",
       "      <th>DTXSID9047596</th>\n",
       "      <td>0.196078</td>\n",
       "      <td>1.0</td>\n",
       "      <td>0.000000</td>\n",
       "      <td>0.000000</td>\n",
       "      <td>0.046260</td>\n",
       "      <td>0.681655</td>\n",
       "      <td>0.0</td>\n",
       "    </tr>\n",
       "    <tr>\n",
       "      <th>DTXSID401036250</th>\n",
       "      <td>0.061224</td>\n",
       "      <td>0.0</td>\n",
       "      <td>0.000000</td>\n",
       "      <td>0.150000</td>\n",
       "      <td>0.071651</td>\n",
       "      <td>0.644544</td>\n",
       "      <td>0.0</td>\n",
       "    </tr>\n",
       "    <tr>\n",
       "      <th>...</th>\n",
       "      <th>...</th>\n",
       "      <td>...</td>\n",
       "      <td>...</td>\n",
       "      <td>...</td>\n",
       "      <td>...</td>\n",
       "      <td>...</td>\n",
       "      <td>...</td>\n",
       "      <td>...</td>\n",
       "    </tr>\n",
       "    <tr>\n",
       "      <th rowspan=\"5\" valign=\"top\">DTXSID4042254</th>\n",
       "      <th>DTXSID3041877</th>\n",
       "      <td>0.081967</td>\n",
       "      <td>1.0</td>\n",
       "      <td>0.000000</td>\n",
       "      <td>0.000000</td>\n",
       "      <td>0.140264</td>\n",
       "      <td>0.789391</td>\n",
       "      <td>0.0</td>\n",
       "    </tr>\n",
       "    <tr>\n",
       "      <th>DTXSID1024835</th>\n",
       "      <td>0.036364</td>\n",
       "      <td>1.0</td>\n",
       "      <td>0.000000</td>\n",
       "      <td>0.000000</td>\n",
       "      <td>0.110274</td>\n",
       "      <td>0.694941</td>\n",
       "      <td>0.0</td>\n",
       "    </tr>\n",
       "    <tr>\n",
       "      <th>DTXSID1021324</th>\n",
       "      <td>0.025000</td>\n",
       "      <td>1.0</td>\n",
       "      <td>0.000000</td>\n",
       "      <td>0.000000</td>\n",
       "      <td>0.000000</td>\n",
       "      <td>0.637881</td>\n",
       "      <td>0.0</td>\n",
       "    </tr>\n",
       "    <tr>\n",
       "      <th>DTXSID3026514</th>\n",
       "      <td>0.019608</td>\n",
       "      <td>1.0</td>\n",
       "      <td>0.000000</td>\n",
       "      <td>0.000000</td>\n",
       "      <td>0.025903</td>\n",
       "      <td>0.698762</td>\n",
       "      <td>0.0</td>\n",
       "    </tr>\n",
       "    <tr>\n",
       "      <th>DTXSID4042254</th>\n",
       "      <td>1.000000</td>\n",
       "      <td>1.0</td>\n",
       "      <td>1.000000</td>\n",
       "      <td>1.000000</td>\n",
       "      <td>1.000000</td>\n",
       "      <td>1.000000</td>\n",
       "      <td>0.0</td>\n",
       "    </tr>\n",
       "  </tbody>\n",
       "</table>\n",
       "<p>234278 rows × 7 columns</p>\n",
       "</div>"
      ],
      "text/plain": [
       "                               struct_sim  alert_sim  metabs_sim  \\\n",
       "Target        Analogue                                             \n",
       "DTXSID1027269 DTXSID1027269      1.000000        1.0    1.000000   \n",
       "              DTXSID5026914      1.000000        1.0    0.047619   \n",
       "              DTXSID4027367      1.000000        1.0    0.061644   \n",
       "              DTXSID9047596      0.196078        1.0    0.000000   \n",
       "              DTXSID401036250    0.061224        0.0    0.000000   \n",
       "...                                   ...        ...         ...   \n",
       "DTXSID4042254 DTXSID3041877      0.081967        1.0    0.000000   \n",
       "              DTXSID1024835      0.036364        1.0    0.000000   \n",
       "              DTXSID1021324      0.025000        1.0    0.000000   \n",
       "              DTXSID3026514      0.019608        1.0    0.000000   \n",
       "              DTXSID4042254      1.000000        1.0    1.000000   \n",
       "\n",
       "                               transformation_sim        WL  phys_sim  Label  \n",
       "Target        Analogue                                                        \n",
       "DTXSID1027269 DTXSID1027269              1.000000  1.000000  1.000000    0.0  \n",
       "              DTXSID5026914              0.866667  0.155979  0.855037    0.0  \n",
       "              DTXSID4027367              0.866667  0.144200  0.929802    1.0  \n",
       "              DTXSID9047596              0.000000  0.046260  0.681655    0.0  \n",
       "              DTXSID401036250            0.150000  0.071651  0.644544    0.0  \n",
       "...                                           ...       ...       ...    ...  \n",
       "DTXSID4042254 DTXSID3041877              0.000000  0.140264  0.789391    0.0  \n",
       "              DTXSID1024835              0.000000  0.110274  0.694941    0.0  \n",
       "              DTXSID1021324              0.000000  0.000000  0.637881    0.0  \n",
       "              DTXSID3026514              0.000000  0.025903  0.698762    0.0  \n",
       "              DTXSID4042254              1.000000  1.000000  1.000000    0.0  \n",
       "\n",
       "[234278 rows x 7 columns]"
      ]
     },
     "execution_count": 6,
     "metadata": {},
     "output_type": "execute_result"
    }
   ],
   "source": [
    "final_df"
   ]
  },
  {
   "cell_type": "code",
   "execution_count": 7,
   "id": "e3cee5fc-79ed-4b52-98a2-360f7339fd1c",
   "metadata": {},
   "outputs": [],
   "source": [
    "y = final_df['Label']"
   ]
  },
  {
   "cell_type": "code",
   "execution_count": 8,
   "id": "028e66ff-b5d1-40de-865b-d62401a1c983",
   "metadata": {},
   "outputs": [],
   "source": [
    "X = final_df.drop(['Label'], axis = 1)"
   ]
  },
  {
   "cell_type": "code",
   "execution_count": 10,
   "id": "f61453e9-19e9-4c1e-9a5c-e36f41e6f44f",
   "metadata": {},
   "outputs": [],
   "source": [
    "from sklearn.linear_model import LogisticRegression\n",
    "from sklearn.metrics import balanced_accuracy_score, f1_score, make_scorer, roc_auc_score\n",
    "from sklearn.model_selection import cross_validate, train_test_split\n",
    "from sklearn.model_selection import StratifiedKFold\n",
    "from sklearn.linear_model import LogisticRegressionCV, RidgeClassifierCV\n",
    "from sklearn.discriminant_analysis import LinearDiscriminantAnalysis\n",
    "from sklearn.metrics import matthews_corrcoef, roc_auc_score, precision_score, f1_score, recall_score, balanced_accuracy_score\n",
    "from sklearn.ensemble import RandomForestClassifier"
   ]
  },
  {
   "cell_type": "code",
   "execution_count": 11,
   "id": "cb180b43-33f4-43fe-b2ef-aaba99731b73",
   "metadata": {},
   "outputs": [],
   "source": [
    "cv = StratifiedKFold(n_splits = 10)\n",
    "scorer = make_scorer(balanced_accuracy_score)"
   ]
  },
  {
   "cell_type": "code",
   "execution_count": 18,
   "id": "80ab2e18-cd43-4e6f-b10b-4b74643df407",
   "metadata": {},
   "outputs": [],
   "source": [
    "X['metabs'] = X[['metabs_sim','transformation_sim','WL']].mean(axis=1)"
   ]
  },
  {
   "cell_type": "code",
   "execution_count": 22,
   "id": "7e7db6b7-35c3-46be-93ac-4ebd97f298a8",
   "metadata": {},
   "outputs": [],
   "source": [
    "X.drop(['metabs_sim','transformation_sim','WL'], axis = 1, inplace = True)"
   ]
  },
  {
   "cell_type": "code",
   "execution_count": 24,
   "id": "04575454-f513-4905-85b4-1e37a7073144",
   "metadata": {},
   "outputs": [],
   "source": [
    "from sklearn.model_selection import train_test_split\n",
    "X_train, X_test, y_train, y_test = train_test_split(X,y, stratify = y, test_size = 0.2, random_state = 42)"
   ]
  },
  {
   "cell_type": "code",
   "execution_count": 25,
   "id": "edb8e179-1146-44d4-bbc8-85a2fdfd1290",
   "metadata": {},
   "outputs": [],
   "source": [
    "import warnings \n",
    "from sklearn.exceptions import ConvergenceWarning\n",
    "\n",
    "# Filter out warnings from models\n",
    "warnings.filterwarnings('ignore', category = ConvergenceWarning)\n",
    "warnings.filterwarnings('ignore', category = DeprecationWarning)\n",
    "warnings.filterwarnings('ignore', category = UserWarning)\n",
    "\n",
    "# Dataframe to hold results\n",
    "model_results = pd.DataFrame(columns = ['model', 'cv_BA_mean', 'cv_BA_std', 'cv_F1_mean', 'cv_F1_std','cv_MCC_mean','cv_MCC_std','cv_Recall_mean','cv_Recall_std',])\n",
    "\n",
    "def cv_model(train, train_labels, model, name, model_results=None):\n",
    "    \"\"\"Perform 10 fold cross validation of a model\"\"\"\n",
    "    scorer = {'BA' : make_scorer(balanced_accuracy_score) ,'F1': make_scorer(f1_score), 'MCC' : make_scorer(matthews_corrcoef), 'Recall' : make_scorer(recall_score)}\n",
    "    cv = StratifiedKFold(n_splits = 10)\n",
    "    cv_scores = cross_validate(model, train, train_labels, cv = cv, scoring=scorer, n_jobs = -1)\n",
    "    cv_scores = pd.DataFrame(cv_scores)\n",
    "    \n",
    "    \n",
    "    if model_results is not None:\n",
    "        model_results = model_results.append(pd.DataFrame({'model': name, \n",
    "                                                           'cv_BA_mean': cv_scores['test_BA'].mean(), \n",
    "                                                            'cv_BA_std': cv_scores['test_BA'].std(),\n",
    "                                                          'cv_F1_mean': cv_scores['test_F1'].mean(), \n",
    "                                                            'cv_F1_std': cv_scores['test_F1'].std(),\n",
    "                                                           'cv_MCC_mean': cv_scores['test_MCC'].mean(), \n",
    "                                                            'cv_MCC_std': cv_scores['test_MCC'].std(),\n",
    "                                                           'cv_Recall_mean': cv_scores['test_Recall'].mean(), \n",
    "                                                            'cv_Recall_std': cv_scores['test_Recall'].std()\n",
    "                                                          },\n",
    "                                                           index = [0]),\n",
    "                                             ignore_index = True)\n",
    "\n",
    "        return model_results"
   ]
  },
  {
   "cell_type": "code",
   "execution_count": 26,
   "id": "7a085156-fed0-4674-8c05-f3a32e8a6d14",
   "metadata": {},
   "outputs": [
    {
     "name": "stderr",
     "output_type": "stream",
     "text": [
      "/tmp/ipykernel_1250525/4167089468.py:21: FutureWarning: The frame.append method is deprecated and will be removed from pandas in a future version. Use pandas.concat instead.\n",
      "  model_results = model_results.append(pd.DataFrame({'model': name,\n"
     ]
    }
   ],
   "source": [
    "model_results = cv_model(X_train, y_train, LogisticRegression(), \n",
    "                         'LR', model_results)"
   ]
  },
  {
   "cell_type": "code",
   "execution_count": 27,
   "id": "6fec8e35-248c-462d-82bb-cecf915cda22",
   "metadata": {},
   "outputs": [
    {
     "name": "stderr",
     "output_type": "stream",
     "text": [
      "/tmp/ipykernel_1250525/4167089468.py:21: FutureWarning: The frame.append method is deprecated and will be removed from pandas in a future version. Use pandas.concat instead.\n",
      "  model_results = model_results.append(pd.DataFrame({'model': name,\n"
     ]
    }
   ],
   "source": [
    "model_results = cv_model(X_train, y_train,\n",
    "                          LinearDiscriminantAnalysis(), \n",
    "                          'LDA', model_results)\n"
   ]
  },
  {
   "cell_type": "code",
   "execution_count": 28,
   "id": "31540e65-8314-4f8a-a5c9-3bb291cd9569",
   "metadata": {},
   "outputs": [
    {
     "name": "stderr",
     "output_type": "stream",
     "text": [
      "/tmp/ipykernel_1250525/4167089468.py:21: FutureWarning: The frame.append method is deprecated and will be removed from pandas in a future version. Use pandas.concat instead.\n",
      "  model_results = model_results.append(pd.DataFrame({'model': name,\n"
     ]
    }
   ],
   "source": [
    "model_results = cv_model(X_train, y_train,\n",
    "                         RidgeClassifierCV(), 'RIDGE', model_results)"
   ]
  },
  {
   "cell_type": "code",
   "execution_count": 29,
   "id": "c98d0d26-e8ff-45bf-a3d2-07935c2ba76c",
   "metadata": {},
   "outputs": [
    {
     "name": "stderr",
     "output_type": "stream",
     "text": [
      "/tmp/ipykernel_1250525/4167089468.py:21: FutureWarning: The frame.append method is deprecated and will be removed from pandas in a future version. Use pandas.concat instead.\n",
      "  model_results = model_results.append(pd.DataFrame({'model': name,\n"
     ]
    }
   ],
   "source": [
    "model_results = cv_model(X_train, y_train,\n",
    "                         RandomForestClassifier(n_estimators = 100, max_samples = 0.66, random_state = 42), 'RFC', model_results)"
   ]
  },
  {
   "cell_type": "code",
   "execution_count": 30,
   "id": "36760e90-52da-47c7-9879-c7379661d439",
   "metadata": {},
   "outputs": [
    {
     "data": {
      "image/png": "[encoded data removed]",
      "text/plain": [
       "<Figure size 800x600 with 1 Axes>"
      ]
     },
     "metadata": {},
     "output_type": "display_data"
    }
   ],
   "source": [
    "model_results.set_index('model', inplace = True)\n",
    "model_results['cv_BA_mean'].plot.bar(color = 'orange', figsize = (8, 6),\n",
    "                                  yerr = list(model_results['cv_BA_std']),\n",
    "                                  edgecolor = 'k', linewidth = 2)\n",
    "#plt.title('Model AUC Score Results');\n",
    "plt.ylabel('Mean BA Score (with error bar)');\n",
    "model_results.reset_index(inplace = True)\n",
    "plt.tight_layout()\n"
   ]
  },
  {
   "cell_type": "code",
   "execution_count": 31,
   "id": "87b89082-ae8b-481e-aa5f-ac22dfd32382",
   "metadata": {},
   "outputs": [
    {
     "data": {
      "text/html": [
       "<div>\n",
       "<style scoped>\n",
       "    .dataframe tbody tr th:only-of-type {\n",
       "        vertical-align: middle;\n",
       "    }\n",
       "\n",
       "    .dataframe tbody tr th {\n",
       "        vertical-align: top;\n",
       "    }\n",
       "\n",
       "    .dataframe thead th {\n",
       "        text-align: right;\n",
       "    }\n",
       "</style>\n",
       "<table border=\"1\" class=\"dataframe\">\n",
       "  <thead>\n",
       "    <tr style=\"text-align: right;\">\n",
       "      <th></th>\n",
       "      <th>model</th>\n",
       "      <th>cv_BA_mean</th>\n",
       "      <th>cv_BA_std</th>\n",
       "      <th>cv_F1_mean</th>\n",
       "      <th>cv_F1_std</th>\n",
       "      <th>cv_MCC_mean</th>\n",
       "      <th>cv_MCC_std</th>\n",
       "      <th>cv_Recall_mean</th>\n",
       "      <th>cv_Recall_std</th>\n",
       "    </tr>\n",
       "  </thead>\n",
       "  <tbody>\n",
       "    <tr>\n",
       "      <th>0</th>\n",
       "      <td>LR</td>\n",
       "      <td>0.551674</td>\n",
       "      <td>0.019658</td>\n",
       "      <td>0.170507</td>\n",
       "      <td>0.063060</td>\n",
       "      <td>0.224518</td>\n",
       "      <td>0.082524</td>\n",
       "      <td>0.103690</td>\n",
       "      <td>0.039224</td>\n",
       "    </tr>\n",
       "    <tr>\n",
       "      <th>1</th>\n",
       "      <td>LDA</td>\n",
       "      <td>0.772431</td>\n",
       "      <td>0.023028</td>\n",
       "      <td>0.241895</td>\n",
       "      <td>0.021231</td>\n",
       "      <td>0.289013</td>\n",
       "      <td>0.024544</td>\n",
       "      <td>0.554265</td>\n",
       "      <td>0.046074</td>\n",
       "    </tr>\n",
       "    <tr>\n",
       "      <th>2</th>\n",
       "      <td>RIDGE</td>\n",
       "      <td>0.500000</td>\n",
       "      <td>0.000000</td>\n",
       "      <td>0.000000</td>\n",
       "      <td>0.000000</td>\n",
       "      <td>0.000000</td>\n",
       "      <td>0.000000</td>\n",
       "      <td>0.000000</td>\n",
       "      <td>0.000000</td>\n",
       "    </tr>\n",
       "    <tr>\n",
       "      <th>3</th>\n",
       "      <td>RFC</td>\n",
       "      <td>0.796053</td>\n",
       "      <td>0.029154</td>\n",
       "      <td>0.720710</td>\n",
       "      <td>0.046981</td>\n",
       "      <td>0.738930</td>\n",
       "      <td>0.041760</td>\n",
       "      <td>0.592257</td>\n",
       "      <td>0.058310</td>\n",
       "    </tr>\n",
       "  </tbody>\n",
       "</table>\n",
       "</div>"
      ],
      "text/plain": [
       "   model  cv_BA_mean  cv_BA_std  cv_F1_mean  cv_F1_std  cv_MCC_mean  \\\n",
       "0     LR    0.551674   0.019658    0.170507   0.063060     0.224518   \n",
       "1    LDA    0.772431   0.023028    0.241895   0.021231     0.289013   \n",
       "2  RIDGE    0.500000   0.000000    0.000000   0.000000     0.000000   \n",
       "3    RFC    0.796053   0.029154    0.720710   0.046981     0.738930   \n",
       "\n",
       "   cv_MCC_std  cv_Recall_mean  cv_Recall_std  \n",
       "0    0.082524        0.103690       0.039224  \n",
       "1    0.024544        0.554265       0.046074  \n",
       "2    0.000000        0.000000       0.000000  \n",
       "3    0.041760        0.592257       0.058310  "
      ]
     },
     "execution_count": 31,
     "metadata": {},
     "output_type": "execute_result"
    }
   ],
   "source": [
    "model_results"
   ]
  },
  {
   "cell_type": "code",
   "execution_count": 35,
   "id": "6e7ea40e-69b9-438c-a7c6-f685674f308a",
   "metadata": {},
   "outputs": [],
   "source": [
    "from sklearn.model_selection import GridSearchCV"
   ]
  },
  {
   "cell_type": "code",
   "execution_count": 36,
   "id": "a14a141f-0c25-4e0b-b7df-e74bd1ef242d",
   "metadata": {},
   "outputs": [],
   "source": [
    "param_grid=dict()\n",
    "param_grid['solver']=['svd', 'lsqr', 'eigen']"
   ]
  },
  {
   "cell_type": "code",
   "execution_count": 37,
   "id": "71f91af7-7e2d-463b-8d4a-9442e96fd770",
   "metadata": {},
   "outputs": [],
   "source": [
    "inner_cv = StratifiedKFold(n_splits = 10)\n",
    "outer_cv = StratifiedKFold(n_splits = 10)"
   ]
  },
  {
   "cell_type": "code",
   "execution_count": 38,
   "id": "20e7f857-6be4-4516-b2b2-3542ffe3b0b4",
   "metadata": {},
   "outputs": [],
   "source": [
    "model_to_tune=GridSearchCV(LinearDiscriminantAnalysis(), param_grid, scoring=make_scorer(balanced_accuracy_score), cv=inner_cv, n_jobs=-1 )"
   ]
  },
  {
   "cell_type": "code",
   "execution_count": 39,
   "id": "10503152-4d76-4b74-a1e5-c2f2d03505fd",
   "metadata": {},
   "outputs": [],
   "source": [
    "cv_results2 = cross_validate(model_to_tune, X_train, y_train, cv=outer_cv, scoring = make_scorer(balanced_accuracy_score), n_jobs=-1 )"
   ]
  },
  {
   "cell_type": "code",
   "execution_count": 40,
   "id": "e72947b1-a27b-4860-b0cf-43d3381f88a4",
   "metadata": {},
   "outputs": [
    {
     "data": {
      "text/plain": [
       "(0.7724306733179459, 0.021846421747181117)"
      ]
     },
     "execution_count": 40,
     "metadata": {},
     "output_type": "execute_result"
    }
   ],
   "source": [
    "cv_results2['test_score'].mean(), cv_results2['test_score'].std()"
   ]
  },
  {
   "cell_type": "code",
   "execution_count": 41,
   "id": "7f1fee48-5843-4fe4-8b87-dedb313b3c72",
   "metadata": {},
   "outputs": [
    {
     "data": {
      "text/plain": [
       "{'solver': 'svd'}"
      ]
     },
     "execution_count": 41,
     "metadata": {},
     "output_type": "execute_result"
    }
   ],
   "source": [
    "model_to_tune.fit(X_train, y_train).best_params_"
   ]
  },
  {
   "cell_type": "code",
   "execution_count": 42,
   "id": "23a03170-a0c9-4459-a389-d8d60785b2d8",
   "metadata": {},
   "outputs": [],
   "source": [
    "final_model2 = LinearDiscriminantAnalysis(solver = 'svd')"
   ]
  },
  {
   "cell_type": "code",
   "execution_count": 43,
   "id": "3e627c9e-2e21-4e22-9062-130e7e85e649",
   "metadata": {},
   "outputs": [
    {
     "data": {
      "text/html": [
       "<style>#sk-container-id-1 {color: black;background-color: white;}#sk-container-id-1 pre{padding: 0;}#sk-container-id-1 div.sk-toggleable {background-color: white;}#sk-container-id-1 label.sk-toggleable__label {cursor: pointer;display: block;width: 100%;margin-bottom: 0;padding: 0.3em;box-sizing: border-box;text-align: center;}#sk-container-id-1 label.sk-toggleable__label-arrow:before {content: \"▸\";float: left;margin-right: 0.25em;color: #696969;}#sk-container-id-1 label.sk-toggleable__label-arrow:hover:before {color: black;}#sk-container-id-1 div.sk-estimator:hover label.sk-toggleable__label-arrow:before {color: black;}#sk-container-id-1 div.sk-toggleable__content {max-height: 0;max-width: 0;overflow: hidden;text-align: left;background-color: #f0f8ff;}#sk-container-id-1 div.sk-toggleable__content pre {margin: 0.2em;color: black;border-radius: 0.25em;background-color: #f0f8ff;}#sk-container-id-1 input.sk-toggleable__control:checked~div.sk-toggleable__content {max-height: 200px;max-width: 100%;overflow: auto;}#sk-container-id-1 input.sk-toggleable__control:checked~label.sk-toggleable__label-arrow:before {content: \"▾\";}#sk-container-id-1 div.sk-estimator input.sk-toggleable__control:checked~label.sk-toggleable__label {background-color: #d4ebff;}#sk-container-id-1 div.sk-label input.sk-toggleable__control:checked~label.sk-toggleable__label {background-color: #d4ebff;}#sk-container-id-1 input.sk-hidden--visually {border: 0;clip: rect(1px 1px 1px 1px);clip: rect(1px, 1px, 1px, 1px);height: 1px;margin: -1px;overflow: hidden;padding: 0;position: absolute;width: 1px;}#sk-container-id-1 div.sk-estimator {font-family: monospace;background-color: #f0f8ff;border: 1px dotted black;border-radius: 0.25em;box-sizing: border-box;margin-bottom: 0.5em;}#sk-container-id-1 div.sk-estimator:hover {background-color: #d4ebff;}#sk-container-id-1 div.sk-parallel-item::after {content: \"\";width: 100%;border-bottom: 1px solid gray;flex-grow: 1;}#sk-container-id-1 div.sk-label:hover label.sk-toggleable__label {background-color: #d4ebff;}#sk-container-id-1 div.sk-serial::before {content: \"\";position: absolute;border-left: 1px solid gray;box-sizing: border-box;top: 0;bottom: 0;left: 50%;z-index: 0;}#sk-container-id-1 div.sk-serial {display: flex;flex-direction: column;align-items: center;background-color: white;padding-right: 0.2em;padding-left: 0.2em;position: relative;}#sk-container-id-1 div.sk-item {position: relative;z-index: 1;}#sk-container-id-1 div.sk-parallel {display: flex;align-items: stretch;justify-content: center;background-color: white;position: relative;}#sk-container-id-1 div.sk-item::before, #sk-container-id-1 div.sk-parallel-item::before {content: \"\";position: absolute;border-left: 1px solid gray;box-sizing: border-box;top: 0;bottom: 0;left: 50%;z-index: -1;}#sk-container-id-1 div.sk-parallel-item {display: flex;flex-direction: column;z-index: 1;position: relative;background-color: white;}#sk-container-id-1 div.sk-parallel-item:first-child::after {align-self: flex-end;width: 50%;}#sk-container-id-1 div.sk-parallel-item:last-child::after {align-self: flex-start;width: 50%;}#sk-container-id-1 div.sk-parallel-item:only-child::after {width: 0;}#sk-container-id-1 div.sk-dashed-wrapped {border: 1px dashed gray;margin: 0 0.4em 0.5em 0.4em;box-sizing: border-box;padding-bottom: 0.4em;background-color: white;}#sk-container-id-1 div.sk-label label {font-family: monospace;font-weight: bold;display: inline-block;line-height: 1.2em;}#sk-container-id-1 div.sk-label-container {text-align: center;}#sk-container-id-1 div.sk-container {/* jupyter's `normalize.less` sets `[hidden] { display: none; }` but bootstrap.min.css set `[hidden] { display: none !important; }` so we also need the `!important` here to be able to override the default hidden behavior on the sphinx rendered scikit-learn.org. See: https://github.com/scikit-learn/scikit-learn/issues/21755 */display: inline-block !important;position: relative;}#sk-container-id-1 div.sk-text-repr-fallback {display: none;}</style><div id=\"sk-container-id-1\" class=\"sk-top-container\"><div class=\"sk-text-repr-fallback\"><pre>LinearDiscriminantAnalysis()</pre><b>In a Jupyter environment, please rerun this cell to show the HTML representation or trust the notebook. <br />On GitHub, the HTML representation is unable to render, please try loading this page with nbviewer.org.</b></div><div class=\"sk-container\" hidden><div class=\"sk-item\"><div class=\"sk-estimator sk-toggleable\"><input class=\"sk-toggleable__control sk-hidden--visually\" id=\"sk-estimator-id-1\" type=\"checkbox\" checked><label for=\"sk-estimator-id-1\" class=\"sk-toggleable__label sk-toggleable__label-arrow\">LinearDiscriminantAnalysis</label><div class=\"sk-toggleable__content\"><pre>LinearDiscriminantAnalysis()</pre></div></div></div></div></div>"
      ],
      "text/plain": [
       "LinearDiscriminantAnalysis()"
      ]
     },
     "execution_count": 43,
     "metadata": {},
     "output_type": "execute_result"
    }
   ],
   "source": [
    "final_model2.fit(X_train, y_train)"
   ]
  },
  {
   "cell_type": "code",
   "execution_count": 44,
   "id": "d675da6d-5cfc-4edf-bb4c-69ac66beb94d",
   "metadata": {},
   "outputs": [
    {
     "data": {
      "text/plain": [
       "array([[55.94130872,  0.16352803,  0.37078531,  1.61726462]])"
      ]
     },
     "execution_count": 44,
     "metadata": {},
     "output_type": "execute_result"
    }
   ],
   "source": [
    "final_model2.coef_"
   ]
  },
  {
   "cell_type": "code",
   "execution_count": 45,
   "id": "8f65fdc0-ef9f-4479-9175-f95a42a348a5",
   "metadata": {},
   "outputs": [
    {
     "data": {
      "text/plain": [
       "['struct_sim', 'alert_sim', 'phys_sim', 'metabs']"
      ]
     },
     "execution_count": 45,
     "metadata": {},
     "output_type": "execute_result"
    }
   ],
   "source": [
    "final_model2.feature_names_in_.tolist()"
   ]
  },
  {
   "cell_type": "code",
   "execution_count": 46,
   "id": "75a91e85-52fe-48ae-abd9-8c71c2221b2d",
   "metadata": {},
   "outputs": [
    {
     "data": {
      "text/plain": [
       "[55.941308717564496,\n",
       " 0.16352802545274014,\n",
       " 0.3707853059393796,\n",
       " 1.617264618015482]"
      ]
     },
     "execution_count": 46,
     "metadata": {},
     "output_type": "execute_result"
    }
   ],
   "source": [
    "final_model2.coef_.tolist()[0]"
   ]
  },
  {
   "cell_type": "code",
   "execution_count": 47,
   "id": "9b57e843-4212-4a1c-b4ee-341d3389c179",
   "metadata": {},
   "outputs": [
    {
     "data": {
      "text/plain": [
       "array(['struct_sim', 'alert_sim', 'phys_sim', 'metabs'], dtype=object)"
      ]
     },
     "execution_count": 47,
     "metadata": {},
     "output_type": "execute_result"
    }
   ],
   "source": [
    "final_model2.feature_names_in_.T"
   ]
  },
  {
   "cell_type": "code",
   "execution_count": 48,
   "id": "f8873674-a6dc-4957-8a56-d56fc2fa509d",
   "metadata": {},
   "outputs": [],
   "source": [
    "myco2 = []\n",
    "for x,y in zip(final_model2.feature_names_in_.tolist(), final_model2.coef_.tolist()[0]):\n",
    "    myco2.append([x,y])"
   ]
  },
  {
   "cell_type": "code",
   "execution_count": 49,
   "id": "a2bbb3d3-5621-43ef-96ad-4e6cd9bdb925",
   "metadata": {},
   "outputs": [
    {
     "data": {
      "text/html": [
       "<div>\n",
       "<style scoped>\n",
       "    .dataframe tbody tr th:only-of-type {\n",
       "        vertical-align: middle;\n",
       "    }\n",
       "\n",
       "    .dataframe tbody tr th {\n",
       "        vertical-align: top;\n",
       "    }\n",
       "\n",
       "    .dataframe thead th {\n",
       "        text-align: right;\n",
       "    }\n",
       "</style>\n",
       "<table border=\"1\" class=\"dataframe\">\n",
       "  <thead>\n",
       "    <tr style=\"text-align: right;\">\n",
       "      <th></th>\n",
       "      <th>similarities</th>\n",
       "      <th>coefficients</th>\n",
       "    </tr>\n",
       "  </thead>\n",
       "  <tbody>\n",
       "    <tr>\n",
       "      <th>0</th>\n",
       "      <td>struct_sim</td>\n",
       "      <td>55.941309</td>\n",
       "    </tr>\n",
       "    <tr>\n",
       "      <th>1</th>\n",
       "      <td>alert_sim</td>\n",
       "      <td>0.163528</td>\n",
       "    </tr>\n",
       "    <tr>\n",
       "      <th>2</th>\n",
       "      <td>phys_sim</td>\n",
       "      <td>0.370785</td>\n",
       "    </tr>\n",
       "    <tr>\n",
       "      <th>3</th>\n",
       "      <td>metabs</td>\n",
       "      <td>1.617265</td>\n",
       "    </tr>\n",
       "  </tbody>\n",
       "</table>\n",
       "</div>"
      ],
      "text/plain": [
       "  similarities  coefficients\n",
       "0   struct_sim     55.941309\n",
       "1    alert_sim      0.163528\n",
       "2     phys_sim      0.370785\n",
       "3       metabs      1.617265"
      ]
     },
     "execution_count": 49,
     "metadata": {},
     "output_type": "execute_result"
    }
   ],
   "source": [
    "pd.DataFrame(myco2, columns = ['similarities', 'coefficients'])"
   ]
  },
  {
   "cell_type": "code",
   "execution_count": 50,
   "id": "0fb4b538-1d32-4a9b-adee-a84b8e7792bc",
   "metadata": {},
   "outputs": [],
   "source": [
    "preds2 = final_model2.predict(X_test)"
   ]
  },
  {
   "cell_type": "code",
   "execution_count": 51,
   "id": "1d3b2096-e677-4081-9871-1e99bdbc2804",
   "metadata": {},
   "outputs": [
    {
     "data": {
      "text/plain": [
       "0.7740225111267449"
      ]
     },
     "execution_count": 51,
     "metadata": {},
     "output_type": "execute_result"
    }
   ],
   "source": [
    "balanced_accuracy_score(y_test, preds2)"
   ]
  },
  {
   "cell_type": "code",
   "execution_count": null,
   "id": "923b1e5d-b035-4c75-af5e-8c4993963f87",
   "metadata": {},
   "outputs": [],
   "source": []
  },
  {
   "cell_type": "code",
   "execution_count": null,
   "id": "d41d6e9a-571c-40b4-aff3-989198f33f07",
   "metadata": {},
   "outputs": [],
   "source": []
  },
  {
   "cell_type": "code",
   "execution_count": null,
   "id": "355c9705-dc3d-45a6-a3c1-53f67ecfeb47",
   "metadata": {},
   "outputs": [],
   "source": []
  },
  {
   "cell_type": "code",
   "execution_count": null,
   "id": "81ee3e9d-e0f3-4dac-952a-28f6f6949e19",
   "metadata": {},
   "outputs": [],
   "source": []
  }
 ],
 "metadata": {
  "kernelspec": {
   "display_name": "py39",
   "language": "python",
   "name": "py39"
  },
  "language_info": {
   "codemirror_mode": {
    "name": "ipython",
    "version": 3
   },
   "file_extension": ".py",
   "mimetype": "text/x-python",
   "name": "python",
   "nbconvert_exporter": "python",
   "pygments_lexer": "ipython3",
   "version": "3.9.16"
  },
  "widgets": {
   "application/vnd.jupyter.widget-state+json": {
    "state": {},
    "version_major": 2,
    "version_minor": 0
   }
  }
 },
 "nbformat": 4,
 "nbformat_minor": 5
}
