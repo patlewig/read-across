{
 "cells": [
  {
   "cell_type": "code",
   "execution_count": 1,
   "id": "a38f911c-12d2-44cc-a00d-632dc89531de",
   "metadata": {},
   "outputs": [],
   "source": [
    "import pandas as pd\n",
    "import numpy as np\n",
    "import matplotlib.pyplot as plt\n",
    "import os\n",
    "%matplotlib inline"
   ]
  },
  {
   "cell_type": "code",
   "execution_count": 2,
   "id": "df5ad828-7eb0-4736-b3f3-f2ff54459fbc",
   "metadata": {},
   "outputs": [],
   "source": [
    "TOP = os.getcwd()"
   ]
  },
  {
   "cell_type": "code",
   "execution_count": 7,
   "id": "6f6b9d05-07a9-4431-9e68-44e21e80b71a",
   "metadata": {},
   "outputs": [],
   "source": [
    "import openpyxl"
   ]
  },
  {
   "cell_type": "code",
   "execution_count": 14,
   "id": "f4ba4032-3af0-4791-80ef-c8dd3ecb255e",
   "metadata": {},
   "outputs": [],
   "source": [
    "df = pd.read_excel('reach_pairs_290623_mapped.xlsx', sheet_name = 'mapped', index_col = [0])\n"
   ]
  },
  {
   "cell_type": "code",
   "execution_count": 15,
   "id": "4a76eda5-0bc6-4b85-a9f2-960c8309a1f0",
   "metadata": {},
   "outputs": [
    {
     "data": {
      "text/plain": [
       "(5021, 51)"
      ]
     },
     "execution_count": 15,
     "metadata": {},
     "output_type": "execute_result"
    }
   ],
   "source": [
    "df.shape"
   ]
  },
  {
   "cell_type": "code",
   "execution_count": 17,
   "id": "f56568cd-e6ce-46bd-8da0-f70c4327ba23",
   "metadata": {},
   "outputs": [
    {
     "data": {
      "text/html": [
       "<div>\n",
       "<style scoped>\n",
       "    .dataframe tbody tr th:only-of-type {\n",
       "        vertical-align: middle;\n",
       "    }\n",
       "\n",
       "    .dataframe tbody tr th {\n",
       "        vertical-align: top;\n",
       "    }\n",
       "\n",
       "    .dataframe thead th {\n",
       "        text-align: right;\n",
       "    }\n",
       "</style>\n",
       "<table border=\"1\" class=\"dataframe\">\n",
       "  <thead>\n",
       "    <tr style=\"text-align: right;\">\n",
       "      <th></th>\n",
       "      <th>UUID (dossier)</th>\n",
       "      <th>UUID (read-across application)</th>\n",
       "      <th>UUID (source experimental study)</th>\n",
       "      <th>number of source studies</th>\n",
       "      <th>endpoint (read-across application)</th>\n",
       "      <th>study result type (read-across application)</th>\n",
       "      <th>endpoint (source experimental study)</th>\n",
       "      <th>study result type (source experimental study)</th>\n",
       "      <th>guideline(s) (source experimental study)</th>\n",
       "      <th>UUID (literature reference(s), source experimental study)</th>\n",
       "      <th>...</th>\n",
       "      <th>target_Substance_Name</th>\n",
       "      <th>target_Substance_CASRN</th>\n",
       "      <th>target_Substance_Type</th>\n",
       "      <th>target_Substance_Note</th>\n",
       "      <th>target_Structure_SMILES</th>\n",
       "      <th>target_Structure_InChI</th>\n",
       "      <th>target_Structure_InChIKey</th>\n",
       "      <th>target_Structure_Formula</th>\n",
       "      <th>target_Structure_MolWt</th>\n",
       "      <th>target_Structure_SMILES_2D-QSAR</th>\n",
       "    </tr>\n",
       "  </thead>\n",
       "  <tbody>\n",
       "    <tr>\n",
       "      <th>0</th>\n",
       "      <td>9866e265-394e-4ffc-a921-e20aa5a7842a</td>\n",
       "      <td>165c13a1-438b-4d47-b306-eac2c12020c6</td>\n",
       "      <td>420b4abc-c164-497e-a459-b308de2e7a5f</td>\n",
       "      <td>1</td>\n",
       "      <td>developmental toxicity</td>\n",
       "      <td>read-across from supporting substance (structu...</td>\n",
       "      <td>developmental toxicity</td>\n",
       "      <td>experimental study</td>\n",
       "      <td>['OECD Guideline 414 (Prenatal Developmental T...</td>\n",
       "      <td>['9a8fa173-d7e0-4d28-bf70-cdce6466f984']</td>\n",
       "      <td>...</td>\n",
       "      <td>Stannane, dibutyloxo-</td>\n",
       "      <td>818-08-6</td>\n",
       "      <td>Single Compound</td>\n",
       "      <td>NaN</td>\n",
       "      <td>CCCC[Sn](=O)CCCC</td>\n",
       "      <td>InChI=1S/2C4H9.O.Sn/c2*1-3-4-2;;/h2*1,3-4H2,2H...</td>\n",
       "      <td>JGFBRKRYDCGYKD-UHFFFAOYSA-N</td>\n",
       "      <td>C8H18OSn</td>\n",
       "      <td>248.941</td>\n",
       "      <td>NaN</td>\n",
       "    </tr>\n",
       "    <tr>\n",
       "      <th>1</th>\n",
       "      <td>0149c9bb-a534-4438-950a-6e247e578932</td>\n",
       "      <td>9197f9ca-b793-44aa-9959-3e1ea8343f1e</td>\n",
       "      <td>8f97ba72-7e04-4167-94fd-c575d9a96c91</td>\n",
       "      <td>1</td>\n",
       "      <td>developmental toxicity</td>\n",
       "      <td>read-across based on grouping of substances (c...</td>\n",
       "      <td>developmental toxicity</td>\n",
       "      <td>experimental study</td>\n",
       "      <td>['OECD Guideline 414 (Prenatal Developmental T...</td>\n",
       "      <td>['bff4555d-5153-42e6-82f5-97187c8b9639']</td>\n",
       "      <td>...</td>\n",
       "      <td>1-Hexadecene</td>\n",
       "      <td>629-73-2</td>\n",
       "      <td>Single Compound</td>\n",
       "      <td>NaN</td>\n",
       "      <td>CCCCCCCCCCCCCCC=C</td>\n",
       "      <td>InChI=1S/C16H32/c1-3-5-7-9-11-13-15-16-14-12-1...</td>\n",
       "      <td>GQEZCXVZFLOKMC-UHFFFAOYSA-N</td>\n",
       "      <td>C16H32</td>\n",
       "      <td>224.432</td>\n",
       "      <td>CCCCCCCCCCCCCCC=C</td>\n",
       "    </tr>\n",
       "    <tr>\n",
       "      <th>2</th>\n",
       "      <td>0149c9bb-a534-4438-950a-6e247e578932</td>\n",
       "      <td>90ad0651-6346-4146-aec7-204dd97f8b7b</td>\n",
       "      <td>8f97ba72-7e04-4167-94fd-c575d9a96c91</td>\n",
       "      <td>1</td>\n",
       "      <td>developmental toxicity</td>\n",
       "      <td>read-across based on grouping of substances (c...</td>\n",
       "      <td>developmental toxicity</td>\n",
       "      <td>experimental study</td>\n",
       "      <td>['OECD Guideline 414 (Prenatal Developmental T...</td>\n",
       "      <td>['bff4555d-5153-42e6-82f5-97187c8b9639']</td>\n",
       "      <td>...</td>\n",
       "      <td>1-Hexadecene</td>\n",
       "      <td>629-73-2</td>\n",
       "      <td>Single Compound</td>\n",
       "      <td>NaN</td>\n",
       "      <td>CCCCCCCCCCCCCCC=C</td>\n",
       "      <td>InChI=1S/C16H32/c1-3-5-7-9-11-13-15-16-14-12-1...</td>\n",
       "      <td>GQEZCXVZFLOKMC-UHFFFAOYSA-N</td>\n",
       "      <td>C16H32</td>\n",
       "      <td>224.432</td>\n",
       "      <td>CCCCCCCCCCCCCCC=C</td>\n",
       "    </tr>\n",
       "    <tr>\n",
       "      <th>3</th>\n",
       "      <td>bd385dfe-71f2-4217-90ac-00ee22a5ed26</td>\n",
       "      <td>d580cae2-e008-488f-bc48-2643ed38b30a</td>\n",
       "      <td>605db13a-2d5c-42cd-95c0-e0ad8a079f4a</td>\n",
       "      <td>1</td>\n",
       "      <td>developmental toxicity</td>\n",
       "      <td>read-across based on grouping of substances (c...</td>\n",
       "      <td>developmental toxicity</td>\n",
       "      <td>experimental study</td>\n",
       "      <td>['other:']</td>\n",
       "      <td>['7b53d5b3-de74-4353-8ffb-4e0079009339']</td>\n",
       "      <td>...</td>\n",
       "      <td>Alkenes, C13-14</td>\n",
       "      <td>918961-24-7</td>\n",
       "      <td>Mixture/Formulation</td>\n",
       "      <td>NaN</td>\n",
       "      <td>NaN</td>\n",
       "      <td>NaN</td>\n",
       "      <td>NaN</td>\n",
       "      <td>NaN</td>\n",
       "      <td>NaN</td>\n",
       "      <td>NaN</td>\n",
       "    </tr>\n",
       "    <tr>\n",
       "      <th>4</th>\n",
       "      <td>f635baeb-7938-4846-84bb-b87788d4f605</td>\n",
       "      <td>74c024d1-cd1b-4fa5-b6d0-8c1029d34e8f</td>\n",
       "      <td>6d241251-1b01-476f-ac32-01817e1b5a9f</td>\n",
       "      <td>1</td>\n",
       "      <td>developmental toxicity</td>\n",
       "      <td>read-across based on grouping of substances (c...</td>\n",
       "      <td>developmental toxicity</td>\n",
       "      <td>experimental study</td>\n",
       "      <td>['OECD Guideline 414 (Prenatal Developmental T...</td>\n",
       "      <td>['e3e8a36b-7277-46d0-912d-0774fe26e4f3']</td>\n",
       "      <td>...</td>\n",
       "      <td>Hydrocarbons, C12-30, olefin-rich, ethylene po...</td>\n",
       "      <td>68911-05-7</td>\n",
       "      <td>Mixture/Formulation</td>\n",
       "      <td>Loaded based on name agreement between SRS and...</td>\n",
       "      <td>NaN</td>\n",
       "      <td>NaN</td>\n",
       "      <td>NaN</td>\n",
       "      <td>NaN</td>\n",
       "      <td>NaN</td>\n",
       "      <td>NaN</td>\n",
       "    </tr>\n",
       "  </tbody>\n",
       "</table>\n",
       "<p>5 rows × 51 columns</p>\n",
       "</div>"
      ],
      "text/plain": [
       "                         UUID (dossier)        UUID (read-across application)  \\\n",
       "0  9866e265-394e-4ffc-a921-e20aa5a7842a  165c13a1-438b-4d47-b306-eac2c12020c6   \n",
       "1  0149c9bb-a534-4438-950a-6e247e578932  9197f9ca-b793-44aa-9959-3e1ea8343f1e   \n",
       "2  0149c9bb-a534-4438-950a-6e247e578932  90ad0651-6346-4146-aec7-204dd97f8b7b   \n",
       "3  bd385dfe-71f2-4217-90ac-00ee22a5ed26  d580cae2-e008-488f-bc48-2643ed38b30a   \n",
       "4  f635baeb-7938-4846-84bb-b87788d4f605  74c024d1-cd1b-4fa5-b6d0-8c1029d34e8f   \n",
       "\n",
       "       UUID (source experimental study)  number of source studies  \\\n",
       "0  420b4abc-c164-497e-a459-b308de2e7a5f                         1   \n",
       "1  8f97ba72-7e04-4167-94fd-c575d9a96c91                         1   \n",
       "2  8f97ba72-7e04-4167-94fd-c575d9a96c91                         1   \n",
       "3  605db13a-2d5c-42cd-95c0-e0ad8a079f4a                         1   \n",
       "4  6d241251-1b01-476f-ac32-01817e1b5a9f                         1   \n",
       "\n",
       "  endpoint (read-across application)  \\\n",
       "0             developmental toxicity   \n",
       "1             developmental toxicity   \n",
       "2             developmental toxicity   \n",
       "3             developmental toxicity   \n",
       "4             developmental toxicity   \n",
       "\n",
       "         study result type (read-across application)  \\\n",
       "0  read-across from supporting substance (structu...   \n",
       "1  read-across based on grouping of substances (c...   \n",
       "2  read-across based on grouping of substances (c...   \n",
       "3  read-across based on grouping of substances (c...   \n",
       "4  read-across based on grouping of substances (c...   \n",
       "\n",
       "  endpoint (source experimental study)  \\\n",
       "0               developmental toxicity   \n",
       "1               developmental toxicity   \n",
       "2               developmental toxicity   \n",
       "3               developmental toxicity   \n",
       "4               developmental toxicity   \n",
       "\n",
       "  study result type (source experimental study)  \\\n",
       "0                            experimental study   \n",
       "1                            experimental study   \n",
       "2                            experimental study   \n",
       "3                            experimental study   \n",
       "4                            experimental study   \n",
       "\n",
       "            guideline(s) (source experimental study)  \\\n",
       "0  ['OECD Guideline 414 (Prenatal Developmental T...   \n",
       "1  ['OECD Guideline 414 (Prenatal Developmental T...   \n",
       "2  ['OECD Guideline 414 (Prenatal Developmental T...   \n",
       "3                                         ['other:']   \n",
       "4  ['OECD Guideline 414 (Prenatal Developmental T...   \n",
       "\n",
       "  UUID (literature reference(s), source experimental study)  ...  \\\n",
       "0           ['9a8fa173-d7e0-4d28-bf70-cdce6466f984']         ...   \n",
       "1           ['bff4555d-5153-42e6-82f5-97187c8b9639']         ...   \n",
       "2           ['bff4555d-5153-42e6-82f5-97187c8b9639']         ...   \n",
       "3           ['7b53d5b3-de74-4353-8ffb-4e0079009339']         ...   \n",
       "4           ['e3e8a36b-7277-46d0-912d-0774fe26e4f3']         ...   \n",
       "\n",
       "                               target_Substance_Name target_Substance_CASRN  \\\n",
       "0                              Stannane, dibutyloxo-               818-08-6   \n",
       "1                                       1-Hexadecene               629-73-2   \n",
       "2                                       1-Hexadecene               629-73-2   \n",
       "3                                    Alkenes, C13-14            918961-24-7   \n",
       "4  Hydrocarbons, C12-30, olefin-rich, ethylene po...             68911-05-7   \n",
       "\n",
       "  target_Substance_Type                              target_Substance_Note  \\\n",
       "0       Single Compound                                                NaN   \n",
       "1       Single Compound                                                NaN   \n",
       "2       Single Compound                                                NaN   \n",
       "3   Mixture/Formulation                                                NaN   \n",
       "4   Mixture/Formulation  Loaded based on name agreement between SRS and...   \n",
       "\n",
       "  target_Structure_SMILES                             target_Structure_InChI  \\\n",
       "0        CCCC[Sn](=O)CCCC  InChI=1S/2C4H9.O.Sn/c2*1-3-4-2;;/h2*1,3-4H2,2H...   \n",
       "1       CCCCCCCCCCCCCCC=C  InChI=1S/C16H32/c1-3-5-7-9-11-13-15-16-14-12-1...   \n",
       "2       CCCCCCCCCCCCCCC=C  InChI=1S/C16H32/c1-3-5-7-9-11-13-15-16-14-12-1...   \n",
       "3                     NaN                                                NaN   \n",
       "4                     NaN                                                NaN   \n",
       "\n",
       "     target_Structure_InChIKey target_Structure_Formula  \\\n",
       "0  JGFBRKRYDCGYKD-UHFFFAOYSA-N                 C8H18OSn   \n",
       "1  GQEZCXVZFLOKMC-UHFFFAOYSA-N                   C16H32   \n",
       "2  GQEZCXVZFLOKMC-UHFFFAOYSA-N                   C16H32   \n",
       "3                          NaN                      NaN   \n",
       "4                          NaN                      NaN   \n",
       "\n",
       "  target_Structure_MolWt target_Structure_SMILES_2D-QSAR  \n",
       "0                248.941                             NaN  \n",
       "1                224.432               CCCCCCCCCCCCCCC=C  \n",
       "2                224.432               CCCCCCCCCCCCCCC=C  \n",
       "3                    NaN                             NaN  \n",
       "4                    NaN                             NaN  \n",
       "\n",
       "[5 rows x 51 columns]"
      ]
     },
     "execution_count": 17,
     "metadata": {},
     "output_type": "execute_result"
    }
   ],
   "source": [
    "df.head()"
   ]
  },
  {
   "cell_type": "code",
   "execution_count": 19,
   "id": "6b04f94d-f01e-4e50-b861-9036fa2a4a4e",
   "metadata": {},
   "outputs": [],
   "source": [
    "df = df[['source_DSSTox_Substance_Id', 'source_DSSTox_Structure_Id',\n",
    "       'source_DSSTox_QC-Level', 'source_Substance_Name',\n",
    "       'source_Substance_CASRN', 'source_Substance_Type',\n",
    "       'source_Substance_Note', 'source_Structure_SMILES',\n",
    "       'source_Structure_InChI', 'source_Structure_InChIKey',\n",
    "       'source_Structure_Formula', 'source_Structure_MolWt',\n",
    "       'source_Structure_SMILES_2D-QSAR','target_DSSTox_Substance_Id',\n",
    "       'target_DSSTox_Structure_Id', 'target_DSSTox_QC-Level',\n",
    "       'target_Substance_Name', 'target_Substance_CASRN',\n",
    "       'target_Substance_Type', 'target_Substance_Note',\n",
    "       'target_Structure_SMILES', 'target_Structure_InChI',\n",
    "       'target_Structure_InChIKey', 'target_Structure_Formula',\n",
    "       'target_Structure_MolWt', 'target_Structure_SMILES_2D-QSAR' ]]"
   ]
  },
  {
   "cell_type": "code",
   "execution_count": 20,
   "id": "ab58e40b-4627-4011-8dc8-e2107ec252d8",
   "metadata": {},
   "outputs": [],
   "source": [
    "df2 = df.dropna(subset=['source_DSSTox_Substance_Id', 'target_DSSTox_Substance_Id'])"
   ]
  },
  {
   "cell_type": "code",
   "execution_count": 21,
   "id": "80c50eb1-3dfa-46f7-a579-bdc5aab45672",
   "metadata": {},
   "outputs": [],
   "source": [
    "df2 = df2[df2['source_DSSTox_Substance_Id'] != df2['target_DSSTox_Substance_Id']]"
   ]
  },
  {
   "cell_type": "code",
   "execution_count": 22,
   "id": "5d284a45-b4ca-46cc-bdc2-c211b20f4ffe",
   "metadata": {},
   "outputs": [],
   "source": [
    "reach_pairs_smi = df2.dropna(subset=['source_Structure_SMILES',  'target_Structure_SMILES'])\n",
    "reach_pairs_smi = reach_pairs_smi[reach_pairs_smi['source_DSSTox_Substance_Id'] != reach_pairs_smi['target_DSSTox_Substance_Id']]\n"
   ]
  },
  {
   "cell_type": "code",
   "execution_count": 23,
   "id": "536170b6-f5d5-4f8e-a81e-93686ab6e789",
   "metadata": {},
   "outputs": [],
   "source": [
    "reach_pairs_smi = reach_pairs_smi.drop_duplicates()"
   ]
  },
  {
   "cell_type": "code",
   "execution_count": 26,
   "id": "6643bdae-d283-4ce0-b943-909187c407a0",
   "metadata": {},
   "outputs": [],
   "source": [
    "qsar_ready = pd.read_csv('all_dtxsid_dedup_Summary_file.csv')"
   ]
  },
  {
   "cell_type": "code",
   "execution_count": 27,
   "id": "86ea30cc-f5ee-4c6a-bfb1-1185446938a2",
   "metadata": {},
   "outputs": [],
   "source": [
    "mydict = {k:v for k,v in zip(qsar_ready['Molecule name'], qsar_ready['Canonical_QSARr'])}"
   ]
  },
  {
   "cell_type": "code",
   "execution_count": 28,
   "id": "527c46fa-117d-4c2b-acf3-ba545ac78cfc",
   "metadata": {},
   "outputs": [],
   "source": [
    "mydict['DTXSID8027292'] = 'CCCC[Sn](Cl)(Cl)CCCC'"
   ]
  },
  {
   "cell_type": "code",
   "execution_count": 29,
   "id": "6cb05395-6d81-43ab-93ec-7829be1ed309",
   "metadata": {},
   "outputs": [],
   "source": [
    "mydict['DTXSID4027315'] = 'CCCC[Sn](=O)CCCC'"
   ]
  },
  {
   "cell_type": "code",
   "execution_count": 31,
   "id": "3828126a-4352-4e72-965b-cf66fc4f5bbb",
   "metadata": {},
   "outputs": [],
   "source": [
    "mydict['DTXSID0029210'] = 'CCCC[Sn](Cl)(Cl)Cl'"
   ]
  },
  {
   "cell_type": "code",
   "execution_count": 32,
   "id": "d1b7c73f-48ae-4337-becb-1d3f76675235",
   "metadata": {},
   "outputs": [],
   "source": [
    "mydict['DTXSID4044797'] = 'CCCC[Sn](O)(O)Cl'"
   ]
  },
  {
   "cell_type": "code",
   "execution_count": 33,
   "id": "4e6e430e-5d13-41f6-a966-c9014239adfe",
   "metadata": {},
   "outputs": [],
   "source": [
    "mydict['DTXSID6029628'] = 'CCCCCCCC[Sn](=O)CCCCCCCC'"
   ]
  },
  {
   "cell_type": "code",
   "execution_count": 34,
   "id": "a25095b4-0965-4fe4-a85a-c5c917e8639f",
   "metadata": {},
   "outputs": [],
   "source": [
    "mydict['DTXSID701020955'] = 'CCCCCCCC[Sn](CCCCCCCC)(OC(=O)C(CC)CCCC)OC(=O)C(CC)CCCC'"
   ]
  },
  {
   "cell_type": "code",
   "execution_count": 35,
   "id": "f194c5bf-728f-4999-8609-2fa0cbae1299",
   "metadata": {},
   "outputs": [],
   "source": [
    "mydict['DTXSID1020194'] = 'OB(O)O'"
   ]
  },
  {
   "cell_type": "code",
   "execution_count": 36,
   "id": "9773dbcd-8cfc-4f5f-b89c-24b00e2ffff9",
   "metadata": {},
   "outputs": [],
   "source": [
    "mydict['DTXSID2041676'] = 'ClB(Cl)Cl'"
   ]
  },
  {
   "cell_type": "code",
   "execution_count": 37,
   "id": "8863e9a1-4f70-4d33-8fb0-4981d6e9b441",
   "metadata": {},
   "outputs": [],
   "source": [
    "reach_pairs_smi['source_qsarsmi'] = reach_pairs_smi['source_DSSTox_Substance_Id'].apply(lambda x: mydict[x] if x in mydict.keys() else np.nan)"
   ]
  },
  {
   "cell_type": "code",
   "execution_count": 38,
   "id": "7157b5d0-998f-4274-af80-612b0cbbed1a",
   "metadata": {},
   "outputs": [],
   "source": [
    "reach_pairs_smi['target_qsarsmi'] = reach_pairs_smi['target_DSSTox_Substance_Id'].apply(lambda x: mydict[x] if x in mydict.keys() else np.nan)"
   ]
  },
  {
   "cell_type": "code",
   "execution_count": 39,
   "id": "98bfe620-e817-4b63-881e-ef7c2dbf42db",
   "metadata": {},
   "outputs": [],
   "source": [
    "reach_pairs_smi.drop(['source_Structure_SMILES_2D-QSAR','target_Structure_SMILES_2D-QSAR'], axis = 1, inplace = True)"
   ]
  },
  {
   "cell_type": "code",
   "execution_count": 40,
   "id": "b84e8091-c224-413d-8a5a-305071ab7ded",
   "metadata": {},
   "outputs": [],
   "source": [
    "reach_pairs_qsmi = reach_pairs_smi.dropna(subset=['source_qsarsmi', 'target_qsarsmi'])"
   ]
  },
  {
   "cell_type": "code",
   "execution_count": 41,
   "id": "31dfe361-0868-4d3d-b53e-199589665664",
   "metadata": {},
   "outputs": [],
   "source": [
    "reach_pairs_qsmi = reach_pairs_qsmi.drop_duplicates()"
   ]
  },
  {
   "cell_type": "code",
   "execution_count": 42,
   "id": "895bc894-3a29-4cc7-9075-b0191d3be49a",
   "metadata": {},
   "outputs": [
    {
     "data": {
      "text/plain": [
       "(389, 26)"
      ]
     },
     "execution_count": 42,
     "metadata": {},
     "output_type": "execute_result"
    }
   ],
   "source": [
    "reach_pairs_qsmi.shape"
   ]
  },
  {
   "cell_type": "code",
   "execution_count": 43,
   "id": "c7f2c9ac-10b5-4dad-8bf0-097000ae2de3",
   "metadata": {},
   "outputs": [],
   "source": [
    "reach_pairs_qsmi.rename(columns = {'source_DSSTox_Substance_Id': 'source_dtxsid', 'target_DSSTox_Substance_Id': 'target_dtxsid'}, inplace = True)"
   ]
  },
  {
   "cell_type": "code",
   "execution_count": 44,
   "id": "514f81d9-d2fb-42fb-aca7-5970b7e08d1e",
   "metadata": {},
   "outputs": [],
   "source": [
    "target_dict = {}\n",
    "for i, group in reach_pairs_qsmi.groupby('target_dtxsid'):\n",
    "    v = list(set(group['source_dtxsid']))\n",
    "    target_dict[i] = v"
   ]
  },
  {
   "cell_type": "code",
   "execution_count": 51,
   "id": "f8317a2a-1619-437f-b991-8e7d630bd8b7",
   "metadata": {},
   "outputs": [],
   "source": [
    "from rdkit.Chem.Draw import IPythonConsole, MolsToGridImage\n",
    "\n",
    "#Show mols in dataframes\n",
    "from rdkit.Chem import PandasTools\n",
    "from rdkit import Chem\n",
    "from rdkit.Chem.Draw import MolsToGridImage\n",
    "from IPython.core.display import HTML\n",
    "from rdkit.Chem import Descriptors\n",
    "from rdkit.ML.Descriptors import MoleculeDescriptors\n",
    "from rdkit.Chem import PandasTools\n",
    "from rdkit.Chem import AllChem\n",
    "from rdkit.Chem import rdDepictor\n",
    "from rdkit.Chem.Fingerprints import FingerprintMols\n",
    "from rdkit import DataStructs\n",
    "import os\n",
    "from scipy.spatial.distance import pdist, squareform\n"
   ]
  },
  {
   "cell_type": "code",
   "execution_count": 52,
   "id": "d0340192-82d9-4214-b6a6-3663820031bc",
   "metadata": {},
   "outputs": [],
   "source": [
    "def mk_fp(df, col1 = 'name', col2 = 'smiles'):\n",
    "\n",
    "    '''\n",
    "    Function to create a Morgan FP  of length 1024 and radius 3. Input file is expecting a dtxsid and smiles column in a df. \n",
    "    Expects dtxsid as identifier and smiles as SMILES.\n",
    "    Returns df of index as dtxsid values and columns as 1024 morgan FP\n",
    "    '''\n",
    "\n",
    "    MOLS = dict(zip(df[col1], df[col2]))\n",
    "    MOLS = {k:Chem.MolFromSmiles(v) for k,v in MOLS.items()}\n",
    "    MOLS = {i:j for i,j in MOLS.items() if j}\n",
    "    FP0 = pd.DataFrame([np.array(AllChem.GetMorganFingerprintAsBitVect(i,3,1024)) for i in MOLS.values()])\n",
    "    FP0.index = MOLS.keys()\n",
    "    FP0.columns = ['mrgn_%d'%i for i in FP0.columns]\n",
    "    return FP0"
   ]
  },
  {
   "cell_type": "code",
   "execution_count": 53,
   "id": "43b216e0-15c4-4c63-9a42-c778b3dc7b85",
   "metadata": {},
   "outputs": [],
   "source": [
    "def mk_httr(df, col1 = 'name', col2 = 'smiles'):\n",
    "\n",
    "    '''\n",
    "    Function to create a Morgan FP  of length 1024 and radius 3. Input file is expecting a dtxsid and smiles column in a df. \n",
    "    Expects dtxsid as identifier and smiles as SMILES.\n",
    "    Returns df of index as dtxsid values and columns as 1024 morgan FP\n",
    "    '''\n",
    "\n",
    "    MOLS = dict(zip(df[col1], df[col2]))\n",
    "    MOLS = {k:Chem.MolFromSmiles(v) for k,v in MOLS.items()}\n",
    "    MOLS = {i:j for i,j in MOLS.items() if j}\n",
    "    FP0 = pd.DataFrame([np.array(AllChem.GetHashedTopologicalTorsionFingerprintAsBitVect(i)) for i in MOLS.values()])\n",
    "    FP0.index = MOLS.keys()\n",
    "    FP0.columns = ['mrgn_%d'%i for i in FP0.columns]\n",
    "    return FP0"
   ]
  },
  {
   "cell_type": "code",
   "execution_count": 54,
   "id": "9bc5885a-d16f-44b6-98a4-15d3bb6435c0",
   "metadata": {},
   "outputs": [],
   "source": [
    "def distance_matrix(df):\n",
    "    '''\n",
    "    Function to create a pairwise square distance matrix using the Jaccard index\n",
    "    '''\n",
    "    D_mgrn = pd.DataFrame(squareform(pdist(df, 'jaccard')), columns = df.index, index = df.index)\n",
    "\n",
    "    return D_mgrn"
   ]
  },
  {
   "cell_type": "code",
   "execution_count": 55,
   "id": "9e33a254-ed55-4541-9c28-3fe0132dd4bc",
   "metadata": {},
   "outputs": [],
   "source": [
    "target_fp = mk_fp(reach_pairs_qsmi, col1 = 'target_dtxsid', col2 = 'target_qsarsmi')\n",
    "source_fp = mk_fp(reach_pairs_qsmi, col1 = 'source_dtxsid', col2 = 'source_qsarsmi')"
   ]
  },
  {
   "cell_type": "code",
   "execution_count": 58,
   "id": "479dc5c9-d87a-4687-8dbc-2931a5dd27f2",
   "metadata": {},
   "outputs": [],
   "source": [
    "X = pd.concat([target_fp, source_fp])"
   ]
  },
  {
   "cell_type": "code",
   "execution_count": 59,
   "id": "23fa3a3e-929a-4dbc-b322-910b00d15dce",
   "metadata": {},
   "outputs": [],
   "source": [
    "X = X[~X.index.duplicated(keep='first')]"
   ]
  },
  {
   "cell_type": "code",
   "execution_count": 61,
   "id": "bd186dc0-ad9e-466c-9456-c8f4a38bbe3f",
   "metadata": {},
   "outputs": [],
   "source": [
    "D = distance_matrix(X)\n",
    "S = 1 -D"
   ]
  },
  {
   "cell_type": "code",
   "execution_count": 62,
   "id": "e0faa5ba-935a-400a-9b54-5b388df6ca00",
   "metadata": {},
   "outputs": [],
   "source": [
    "sim_dict = {}\n",
    "for k, v in target_dict.items():\n",
    "    a = S[S.index == k][v].values[0]\n",
    "    sim_dict[k] = a"
   ]
  },
  {
   "cell_type": "code",
   "execution_count": 74,
   "id": "26ca8766-eccd-47df-a826-571eb41d6906",
   "metadata": {},
   "outputs": [],
   "source": [
    "low_sims = list({k:v for k,v in sim_dict.items() if any( 0.4>e for e in v)})"
   ]
  },
  {
   "cell_type": "code",
   "execution_count": 77,
   "id": "4fbddf5e-d0aa-43ce-8270-e030ce99fb56",
   "metadata": {},
   "outputs": [
    {
     "data": {
      "text/plain": [
       "list"
      ]
     },
     "execution_count": 77,
     "metadata": {},
     "output_type": "execute_result"
    }
   ],
   "source": [
    "type(low_sims)"
   ]
  },
  {
   "cell_type": "code",
   "execution_count": 69,
   "id": "670621b6-3d5f-49e4-a810-9758c5aa481b",
   "metadata": {},
   "outputs": [
    {
     "data": {
      "text/plain": [
       "array([1.])"
      ]
     },
     "execution_count": 69,
     "metadata": {},
     "output_type": "execute_result"
    }
   ],
   "source": [
    "sim_dict['DTXSID6035491']"
   ]
  },
  {
   "cell_type": "code",
   "execution_count": 80,
   "id": "91410ada-3507-4131-840f-7715358e843d",
   "metadata": {},
   "outputs": [
    {
     "data": {
      "text/plain": [
       "Index(['source_dtxsid', 'source_DSSTox_Structure_Id', 'source_DSSTox_QC-Level',\n",
       "       'source_Substance_Name', 'source_Substance_CASRN',\n",
       "       'source_Substance_Type', 'source_Substance_Note',\n",
       "       'source_Structure_SMILES', 'source_Structure_InChI',\n",
       "       'source_Structure_InChIKey', 'source_Structure_Formula',\n",
       "       'source_Structure_MolWt', 'target_dtxsid', 'target_DSSTox_Structure_Id',\n",
       "       'target_DSSTox_QC-Level', 'target_Substance_Name',\n",
       "       'target_Substance_CASRN', 'target_Substance_Type',\n",
       "       'target_Substance_Note', 'target_Structure_SMILES',\n",
       "       'target_Structure_InChI', 'target_Structure_InChIKey',\n",
       "       'target_Structure_Formula', 'target_Structure_MolWt', 'source_qsarsmi',\n",
       "       'target_qsarsmi'],\n",
       "      dtype='object')"
      ]
     },
     "execution_count": 80,
     "metadata": {},
     "output_type": "execute_result"
    }
   ],
   "source": [
    "reach_pairs_qsmi.columns"
   ]
  },
  {
   "cell_type": "code",
   "execution_count": 87,
   "id": "dce1c664-87ad-4fa4-81b9-171619d71a2f",
   "metadata": {},
   "outputs": [],
   "source": [
    "low_sims_df = reach_pairs_qsmi[reach_pairs_qsmi['target_dtxsid'].isin(low_sims)][[ 'target_Substance_Name', 'target_Substance_CASRN','target_dtxsid', 'source_Substance_Name','source_Substance_CASRN','source_dtxsid']]"
   ]
  },
  {
   "cell_type": "code",
   "execution_count": 93,
   "id": "99f1225f-264a-4baf-bbe2-6267e3c1bbfc",
   "metadata": {},
   "outputs": [],
   "source": [
    "low_sim_cas = low_sims_df['target_Substance_CASRN'].tolist()"
   ]
  },
  {
   "cell_type": "code",
   "execution_count": 83,
   "id": "76d85763-b994-4992-8e6e-e51c6effcd0d",
   "metadata": {},
   "outputs": [],
   "source": [
    "dossiers = pd.read_excel('dossier-evaluation-status-export.xlsx')"
   ]
  },
  {
   "cell_type": "code",
   "execution_count": 95,
   "id": "0af67675-d79b-4346-968e-b29df5d41cf6",
   "metadata": {},
   "outputs": [],
   "source": [
    "dossiers[dossiers['CAS no'].isin(low_sim_cas)].to_csv('dossier_status_lowSS.csv')"
   ]
  },
  {
   "cell_type": "code",
   "execution_count": 97,
   "id": "d387afb2-1688-42bc-a062-1ed598f92d63",
   "metadata": {},
   "outputs": [
    {
     "data": {
      "text/html": [
       "<div>\n",
       "<style scoped>\n",
       "    .dataframe tbody tr th:only-of-type {\n",
       "        vertical-align: middle;\n",
       "    }\n",
       "\n",
       "    .dataframe tbody tr th {\n",
       "        vertical-align: top;\n",
       "    }\n",
       "\n",
       "    .dataframe thead th {\n",
       "        text-align: right;\n",
       "    }\n",
       "</style>\n",
       "<table border=\"1\" class=\"dataframe\">\n",
       "  <thead>\n",
       "    <tr style=\"text-align: right;\">\n",
       "      <th></th>\n",
       "      <th>target_Substance_Name</th>\n",
       "      <th>target_Substance_CASRN</th>\n",
       "      <th>target_dtxsid</th>\n",
       "      <th>source_Substance_Name</th>\n",
       "      <th>source_Substance_CASRN</th>\n",
       "      <th>source_dtxsid</th>\n",
       "    </tr>\n",
       "  </thead>\n",
       "  <tbody>\n",
       "    <tr>\n",
       "      <th>1197</th>\n",
       "      <td>3-Methylbutyl acetate</td>\n",
       "      <td>123-92-2</td>\n",
       "      <td>DTXSID9025453</td>\n",
       "      <td>Isopentyl alcohol</td>\n",
       "      <td>123-51-3</td>\n",
       "      <td>DTXSID3025469</td>\n",
       "    </tr>\n",
       "  </tbody>\n",
       "</table>\n",
       "</div>"
      ],
      "text/plain": [
       "      target_Substance_Name target_Substance_CASRN  target_dtxsid  \\\n",
       "1197  3-Methylbutyl acetate               123-92-2  DTXSID9025453   \n",
       "\n",
       "     source_Substance_Name source_Substance_CASRN  source_dtxsid  \n",
       "1197     Isopentyl alcohol               123-51-3  DTXSID3025469  "
      ]
     },
     "execution_count": 97,
     "metadata": {},
     "output_type": "execute_result"
    }
   ],
   "source": [
    "low_sims_df[low_sims_df['target_Substance_CASRN'] == '123-92-2']"
   ]
  },
  {
   "cell_type": "code",
   "execution_count": 98,
   "id": "05263ba3-dde2-4de7-9bce-30f4b4aa1c43",
   "metadata": {},
   "outputs": [
    {
     "data": {
      "text/plain": [
       "array([0.30769231])"
      ]
     },
     "execution_count": 98,
     "metadata": {},
     "output_type": "execute_result"
    }
   ],
   "source": [
    "sim_dict['DTXSID9025453']"
   ]
  },
  {
   "cell_type": "code",
   "execution_count": 99,
   "id": "5ab738ad-50fc-45fa-a4e0-a7afb7a38302",
   "metadata": {},
   "outputs": [
    {
     "data": {
      "text/html": [
       "<div>\n",
       "<style scoped>\n",
       "    .dataframe tbody tr th:only-of-type {\n",
       "        vertical-align: middle;\n",
       "    }\n",
       "\n",
       "    .dataframe tbody tr th {\n",
       "        vertical-align: top;\n",
       "    }\n",
       "\n",
       "    .dataframe thead th {\n",
       "        text-align: right;\n",
       "    }\n",
       "</style>\n",
       "<table border=\"1\" class=\"dataframe\">\n",
       "  <thead>\n",
       "    <tr style=\"text-align: right;\">\n",
       "      <th></th>\n",
       "      <th>target_Substance_Name</th>\n",
       "      <th>target_Substance_CASRN</th>\n",
       "      <th>target_dtxsid</th>\n",
       "      <th>source_Substance_Name</th>\n",
       "      <th>source_Substance_CASRN</th>\n",
       "      <th>source_dtxsid</th>\n",
       "    </tr>\n",
       "  </thead>\n",
       "  <tbody>\n",
       "    <tr>\n",
       "      <th>291</th>\n",
       "      <td>Isobornyl methacrylate</td>\n",
       "      <td>7534-94-3</td>\n",
       "      <td>DTXSID9027653</td>\n",
       "      <td>Methacrylic acid</td>\n",
       "      <td>79-41-4</td>\n",
       "      <td>DTXSID3025542</td>\n",
       "    </tr>\n",
       "    <tr>\n",
       "      <th>2204</th>\n",
       "      <td>Isobornyl methacrylate</td>\n",
       "      <td>7534-94-3</td>\n",
       "      <td>DTXSID9027653</td>\n",
       "      <td>Methyl methacrylate</td>\n",
       "      <td>80-62-6</td>\n",
       "      <td>DTXSID2020844</td>\n",
       "    </tr>\n",
       "  </tbody>\n",
       "</table>\n",
       "</div>"
      ],
      "text/plain": [
       "       target_Substance_Name target_Substance_CASRN  target_dtxsid  \\\n",
       "291   Isobornyl methacrylate              7534-94-3  DTXSID9027653   \n",
       "2204  Isobornyl methacrylate              7534-94-3  DTXSID9027653   \n",
       "\n",
       "     source_Substance_Name source_Substance_CASRN  source_dtxsid  \n",
       "291       Methacrylic acid                79-41-4  DTXSID3025542  \n",
       "2204   Methyl methacrylate                80-62-6  DTXSID2020844  "
      ]
     },
     "execution_count": 99,
     "metadata": {},
     "output_type": "execute_result"
    }
   ],
   "source": [
    "low_sims_df[low_sims_df['target_Substance_CASRN'] == '7534-94-3']"
   ]
  },
  {
   "cell_type": "code",
   "execution_count": 100,
   "id": "00145851-16ec-433b-b435-93f76cfcdd7a",
   "metadata": {},
   "outputs": [
    {
     "data": {
      "text/plain": [
       "array([0.26190476, 0.19512195])"
      ]
     },
     "execution_count": 100,
     "metadata": {},
     "output_type": "execute_result"
    }
   ],
   "source": [
    "sim_dict['DTXSID9027653']"
   ]
  },
  {
   "cell_type": "code",
   "execution_count": 105,
   "id": "f5474d33-70a8-412c-8bc7-a03b5ea75b56",
   "metadata": {},
   "outputs": [
    {
     "data": {
      "text/plain": [
       "array([0.38888889])"
      ]
     },
     "execution_count": 105,
     "metadata": {},
     "output_type": "execute_result"
    }
   ],
   "source": [
    "sim_dict['DTXSID8051544']"
   ]
  },
  {
   "cell_type": "code",
   "execution_count": 104,
   "id": "9ef89507-3960-41c2-a82a-c9f7cfcea8fd",
   "metadata": {},
   "outputs": [
    {
     "data": {
      "text/html": [
       "<div>\n",
       "<style scoped>\n",
       "    .dataframe tbody tr th:only-of-type {\n",
       "        vertical-align: middle;\n",
       "    }\n",
       "\n",
       "    .dataframe tbody tr th {\n",
       "        vertical-align: top;\n",
       "    }\n",
       "\n",
       "    .dataframe thead th {\n",
       "        text-align: right;\n",
       "    }\n",
       "</style>\n",
       "<table border=\"1\" class=\"dataframe\">\n",
       "  <thead>\n",
       "    <tr style=\"text-align: right;\">\n",
       "      <th></th>\n",
       "      <th>target_Substance_Name</th>\n",
       "      <th>target_Substance_CASRN</th>\n",
       "      <th>target_dtxsid</th>\n",
       "      <th>source_Substance_Name</th>\n",
       "      <th>source_Substance_CASRN</th>\n",
       "      <th>source_dtxsid</th>\n",
       "    </tr>\n",
       "  </thead>\n",
       "  <tbody>\n",
       "    <tr>\n",
       "      <th>3960</th>\n",
       "      <td>1,4-Dimethylpiperazine</td>\n",
       "      <td>106-58-1</td>\n",
       "      <td>DTXSID8051544</td>\n",
       "      <td>1-Methylpiperazine</td>\n",
       "      <td>109-01-3</td>\n",
       "      <td>DTXSID4021898</td>\n",
       "    </tr>\n",
       "  </tbody>\n",
       "</table>\n",
       "</div>"
      ],
      "text/plain": [
       "       target_Substance_Name target_Substance_CASRN  target_dtxsid  \\\n",
       "3960  1,4-Dimethylpiperazine               106-58-1  DTXSID8051544   \n",
       "\n",
       "     source_Substance_Name source_Substance_CASRN  source_dtxsid  \n",
       "3960    1-Methylpiperazine               109-01-3  DTXSID4021898  "
      ]
     },
     "execution_count": 104,
     "metadata": {},
     "output_type": "execute_result"
    }
   ],
   "source": [
    "low_sims_df[low_sims_df['target_Substance_CASRN'] =='106-58-1']"
   ]
  },
  {
   "cell_type": "code",
   "execution_count": null,
   "id": "1f5fd0a0-d07a-400b-af29-ef16af859f94",
   "metadata": {},
   "outputs": [],
   "source": []
  },
  {
   "cell_type": "code",
   "execution_count": null,
   "id": "63575346-086e-4304-8081-6054b9b64557",
   "metadata": {},
   "outputs": [],
   "source": []
  },
  {
   "cell_type": "code",
   "execution_count": null,
   "id": "8faa6362-0170-4264-a779-c61c2e6beb65",
   "metadata": {},
   "outputs": [],
   "source": []
  }
 ],
 "metadata": {
  "kernelspec": {
   "display_name": "aim",
   "language": "python",
   "name": "aim"
  },
  "language_info": {
   "codemirror_mode": {
    "name": "ipython",
    "version": 3
   },
   "file_extension": ".py",
   "mimetype": "text/x-python",
   "name": "python",
   "nbconvert_exporter": "python",
   "pygments_lexer": "ipython3",
   "version": "3.8.13"
  },
  "widgets": {
   "application/vnd.jupyter.widget-state+json": {
    "state": {},
    "version_major": 2,
    "version_minor": 0
   }
  }
 },
 "nbformat": 4,
 "nbformat_minor": 5
}
