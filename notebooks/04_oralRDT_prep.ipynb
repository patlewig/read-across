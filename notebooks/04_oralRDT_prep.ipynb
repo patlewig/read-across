{
 "cells": [
  {
   "cell_type": "code",
   "execution_count": 1,
   "id": "3075541f-1be9-460a-8d93-6bd88e944c28",
   "metadata": {},
   "outputs": [],
   "source": [
    "import numpy as np\n",
    "import pandas as pd\n",
    "import matplotlib.pyplot as plt\n",
    "import seaborn as sns\n",
    "%matplotlib inline\n",
    "import openpyxl\n",
    "from rdkit.Chem.Draw import IPythonConsole, MolsToGridImage\n",
    "\n",
    "#Show mols in dataframes\n",
    "from rdkit.Chem import PandasTools\n",
    "from rdkit import Chem\n",
    "from rdkit.Chem.Draw import MolsToGridImage\n",
    "from IPython.core.display import HTML\n",
    "from rdkit.Chem import Descriptors\n",
    "from rdkit.ML.Descriptors import MoleculeDescriptors\n",
    "from rdkit.Chem import PandasTools\n",
    "from rdkit.Chem import AllChem\n",
    "from rdkit.Chem import rdDepictor\n",
    "from rdkit.Chem.Fingerprints import FingerprintMols\n",
    "from rdkit import DataStructs\n",
    "import os\n",
    "from scipy.spatial.distance import pdist, squareform\n",
    "import sys"
   ]
  },
  {
   "cell_type": "code",
   "execution_count": 2,
   "id": "6982a03e-ee90-4680-b33b-a4c33d85e7c4",
   "metadata": {},
   "outputs": [],
   "source": [
    "TOP = os.getcwd().replace('notebooks', '')\n",
    "raw_dir = TOP + 'data/raw/'\n",
    "interim_dir = TOP + 'data/interim/'\n",
    "external_dir = TOP + 'data/external/'\n",
    "figures_dir = TOP + 'reports/figures/'\n"
   ]
  },
  {
   "cell_type": "code",
   "execution_count": 3,
   "id": "c2c03816-1e6a-4e3b-b9a8-b55fca1f11f8",
   "metadata": {},
   "outputs": [],
   "source": [
    "import sqlalchemy as sa"
   ]
  },
  {
   "cell_type": "code",
   "execution_count": 5,
   "id": "57b5b99b-6d36-4201-bf99-3c2d353b20ce",
   "metadata": {},
   "outputs": [],
   "source": [
    "#engine = sa.create_engine(f\"\"\"mysql+pymysql://{username}:{password}@{host}\"\"\")\n"
   ]
  },
  {
   "cell_type": "code",
   "execution_count": 6,
   "id": "b36cf65e-10ba-4dba-86d9-6fca86cee4fb",
   "metadata": {},
   "outputs": [],
   "source": [
    "#engine.execute(\"CREATE DATABASE toxval94\") #create db\n",
    "#engine.execute(\"USE toxval94\")"
   ]
  },
  {
   "cell_type": "code",
   "execution_count": 7,
   "id": "7731d959-a516-4fed-b381-cd2228c37568",
   "metadata": {},
   "outputs": [],
   "source": [
    "toxvaldb = sa.create_engine(f\"\"\"mysql+pymysql://{username}:{password}@{host}/toxval94\"\"\")"
   ]
  },
  {
   "cell_type": "code",
   "execution_count": 8,
   "id": "ee95d3a9-c232-4ecc-bd82-88932cbbeda1",
   "metadata": {},
   "outputs": [
    {
     "name": "stderr",
     "output_type": "stream",
     "text": [
      "/tmp/ipykernel_745407/164040344.py:1: SADeprecationWarning: The Engine.table_names() method is deprecated and will be removed in a future release.  Please refer to Inspector.get_table_names(). (deprecated since: 1.4)\n",
      "  toxvaldb.table_names()\n"
     ]
    },
    {
     "data": {
      "text/plain": [
       "['inhalation', 'irritation', 'oral_RDT', 'oral_RDT_dtxsid', 'pfas_data']"
      ]
     },
     "execution_count": 8,
     "metadata": {},
     "output_type": "execute_result"
    }
   ],
   "source": [
    "toxvaldb.table_names()"
   ]
  },
  {
   "cell_type": "code",
   "execution_count": 9,
   "id": "80b1f632-386c-4735-a6dd-d333653e505e",
   "metadata": {},
   "outputs": [],
   "source": [
    "\n",
    "oral_df = pd.read_sql('''select dtxsid, source, subsource, risk_assessment_class,toxval_type, toxval_numeric,toxval_units_converted, toxval_units, study_type,source_source_id from oral_RDT ''', toxvaldb)"
   ]
  },
  {
   "cell_type": "code",
   "execution_count": 10,
   "id": "8e9bc540-09d0-45e2-a74e-2979eb647c60",
   "metadata": {},
   "outputs": [
    {
     "data": {
      "text/plain": [
       "(99406, 10)"
      ]
     },
     "execution_count": 10,
     "metadata": {},
     "output_type": "execute_result"
    }
   ],
   "source": [
    "oral_df.shape"
   ]
  },
  {
   "cell_type": "code",
   "execution_count": 11,
   "id": "a2778b3f-5615-4e67-8631-b7dc45b3102a",
   "metadata": {},
   "outputs": [
    {
     "data": {
      "text/plain": [
       "array(['NOAEL', 'LOAEL', 'LEL', 'NOEL', 'LOEL', 'NOAEC', 'LOAEC', 'NEL',\n",
       "       'NOEC', 'LOEC'], dtype=object)"
      ]
     },
     "execution_count": 11,
     "metadata": {},
     "output_type": "execute_result"
    }
   ],
   "source": [
    "oral_df.toxval_type.unique()"
   ]
  },
  {
   "cell_type": "code",
   "execution_count": 14,
   "id": "822a3941-b990-4e77-89c0-2fcc20f6c1b1",
   "metadata": {},
   "outputs": [
    {
     "data": {
      "text/plain": [
       "array(['mg/kg-day'], dtype=object)"
      ]
     },
     "execution_count": 14,
     "metadata": {},
     "output_type": "execute_result"
    }
   ],
   "source": [
    "oral_df.toxval_units.unique()"
   ]
  },
  {
   "cell_type": "code",
   "execution_count": 15,
   "id": "6a471850-de10-4d65-9864-05f30c91d153",
   "metadata": {},
   "outputs": [],
   "source": [
    "def f10(x):\n",
    "    return x.quantile(0.1)"
   ]
  },
  {
   "cell_type": "code",
   "execution_count": 16,
   "id": "25875fd2-5bba-4555-9daa-a9611c72ed2a",
   "metadata": {},
   "outputs": [],
   "source": [
    "oral_10pte = oral_df.groupby(['dtxsid', 'study_type', 'toxval_type']).agg({'toxval_numeric': f10})"
   ]
  },
  {
   "cell_type": "code",
   "execution_count": 17,
   "id": "d675fdd9-85ba-43db-8cf1-7bfe0413bd2e",
   "metadata": {},
   "outputs": [],
   "source": [
    "oral_10pte = oral_10pte.reset_index()"
   ]
  },
  {
   "cell_type": "code",
   "execution_count": 18,
   "id": "428f9d68-ed31-4046-8381-a902e1d5cb39",
   "metadata": {},
   "outputs": [],
   "source": [
    "res_1 = {}\n",
    "for i, group in oral_10pte.groupby('dtxsid'):\n",
    "    subset = group[['toxval_type', 'toxval_numeric']]\n",
    "    a = list(subset[subset['toxval_type'].isin(['NOAEL', 'NOEC', 'NOEL', 'NOAEC','NEL'])]['toxval_numeric'])\n",
    "    \n",
    "    b = list(subset[subset['toxval_type'].isin(['LOAEL', 'LOEC', 'LOEL', 'LOAEC','LEL'])]['toxval_numeric'])\n",
    "    b = [e/10 for e in b]\n",
    "    \n",
    "    if len(a) >0:\n",
    "        res_1[i] = np.percentile(a, 10)\n",
    "    elif len(b) > 0:\n",
    "        res_1[i] = np.percentile(b, 10)"
   ]
  },
  {
   "cell_type": "code",
   "execution_count": 19,
   "id": "87548bd2-93de-4aae-887c-2e1919d555bf",
   "metadata": {},
   "outputs": [
    {
     "data": {
      "text/html": [
       "<div>\n",
       "<style scoped>\n",
       "    .dataframe tbody tr th:only-of-type {\n",
       "        vertical-align: middle;\n",
       "    }\n",
       "\n",
       "    .dataframe tbody tr th {\n",
       "        vertical-align: top;\n",
       "    }\n",
       "\n",
       "    .dataframe thead th {\n",
       "        text-align: right;\n",
       "    }\n",
       "</style>\n",
       "<table border=\"1\" class=\"dataframe\">\n",
       "  <thead>\n",
       "    <tr style=\"text-align: right;\">\n",
       "      <th></th>\n",
       "      <th>dtxsid</th>\n",
       "      <th>10ptile_POD</th>\n",
       "    </tr>\n",
       "  </thead>\n",
       "  <tbody>\n",
       "    <tr>\n",
       "      <th>0</th>\n",
       "      <td>DTXSID001004378</td>\n",
       "      <td>150.00000</td>\n",
       "    </tr>\n",
       "    <tr>\n",
       "      <th>1</th>\n",
       "      <td>DTXSID00100498</td>\n",
       "      <td>250.00000</td>\n",
       "    </tr>\n",
       "    <tr>\n",
       "      <th>2</th>\n",
       "      <td>DTXSID001005033</td>\n",
       "      <td>280.00000</td>\n",
       "    </tr>\n",
       "    <tr>\n",
       "      <th>3</th>\n",
       "      <td>DTXSID001006300</td>\n",
       "      <td>550.00000</td>\n",
       "    </tr>\n",
       "    <tr>\n",
       "      <th>4</th>\n",
       "      <td>DTXSID00100756</td>\n",
       "      <td>1000.00000</td>\n",
       "    </tr>\n",
       "    <tr>\n",
       "      <th>...</th>\n",
       "      <td>...</td>\n",
       "      <td>...</td>\n",
       "    </tr>\n",
       "    <tr>\n",
       "      <th>7631</th>\n",
       "      <td>DTXSID9098220</td>\n",
       "      <td>300.00000</td>\n",
       "    </tr>\n",
       "    <tr>\n",
       "      <th>7632</th>\n",
       "      <td>DTXSID90990466</td>\n",
       "      <td>150.00000</td>\n",
       "    </tr>\n",
       "    <tr>\n",
       "      <th>7633</th>\n",
       "      <td>DTXSID90998205</td>\n",
       "      <td>200.00000</td>\n",
       "    </tr>\n",
       "    <tr>\n",
       "      <th>7634</th>\n",
       "      <td>DTXSID9099876</td>\n",
       "      <td>1005.70000</td>\n",
       "    </tr>\n",
       "    <tr>\n",
       "      <th>7635</th>\n",
       "      <td>NODTXSID</td>\n",
       "      <td>2.88414</td>\n",
       "    </tr>\n",
       "  </tbody>\n",
       "</table>\n",
       "<p>7636 rows × 2 columns</p>\n",
       "</div>"
      ],
      "text/plain": [
       "               dtxsid  10ptile_POD\n",
       "0     DTXSID001004378    150.00000\n",
       "1      DTXSID00100498    250.00000\n",
       "2     DTXSID001005033    280.00000\n",
       "3     DTXSID001006300    550.00000\n",
       "4      DTXSID00100756   1000.00000\n",
       "...               ...          ...\n",
       "7631    DTXSID9098220    300.00000\n",
       "7632   DTXSID90990466    150.00000\n",
       "7633   DTXSID90998205    200.00000\n",
       "7634    DTXSID9099876   1005.70000\n",
       "7635         NODTXSID      2.88414\n",
       "\n",
       "[7636 rows x 2 columns]"
      ]
     },
     "execution_count": 19,
     "metadata": {},
     "output_type": "execute_result"
    }
   ],
   "source": [
    "S1 = pd.DataFrame(list(res_1.items()), columns = ['dtxsid', '10ptile_POD'] )\n",
    "S1"
   ]
  },
  {
   "cell_type": "code",
   "execution_count": 20,
   "id": "579a8125-bef4-4f91-bb72-24bb82cb9da8",
   "metadata": {},
   "outputs": [
    {
     "data": {
      "text/html": [
       "<div>\n",
       "<style scoped>\n",
       "    .dataframe tbody tr th:only-of-type {\n",
       "        vertical-align: middle;\n",
       "    }\n",
       "\n",
       "    .dataframe tbody tr th {\n",
       "        vertical-align: top;\n",
       "    }\n",
       "\n",
       "    .dataframe thead th {\n",
       "        text-align: right;\n",
       "    }\n",
       "</style>\n",
       "<table border=\"1\" class=\"dataframe\">\n",
       "  <thead>\n",
       "    <tr style=\"text-align: right;\">\n",
       "      <th></th>\n",
       "      <th>dtxsid</th>\n",
       "      <th>10ptile_POD</th>\n",
       "    </tr>\n",
       "  </thead>\n",
       "  <tbody>\n",
       "    <tr>\n",
       "      <th>0</th>\n",
       "      <td>DTXSID001004378</td>\n",
       "      <td>150.0</td>\n",
       "    </tr>\n",
       "    <tr>\n",
       "      <th>1</th>\n",
       "      <td>DTXSID00100498</td>\n",
       "      <td>250.0</td>\n",
       "    </tr>\n",
       "    <tr>\n",
       "      <th>2</th>\n",
       "      <td>DTXSID001005033</td>\n",
       "      <td>280.0</td>\n",
       "    </tr>\n",
       "    <tr>\n",
       "      <th>3</th>\n",
       "      <td>DTXSID001006300</td>\n",
       "      <td>550.0</td>\n",
       "    </tr>\n",
       "    <tr>\n",
       "      <th>4</th>\n",
       "      <td>DTXSID00100756</td>\n",
       "      <td>1000.0</td>\n",
       "    </tr>\n",
       "    <tr>\n",
       "      <th>...</th>\n",
       "      <td>...</td>\n",
       "      <td>...</td>\n",
       "    </tr>\n",
       "    <tr>\n",
       "      <th>7630</th>\n",
       "      <td>DTXSID9098147</td>\n",
       "      <td>450.0</td>\n",
       "    </tr>\n",
       "    <tr>\n",
       "      <th>7631</th>\n",
       "      <td>DTXSID9098220</td>\n",
       "      <td>300.0</td>\n",
       "    </tr>\n",
       "    <tr>\n",
       "      <th>7632</th>\n",
       "      <td>DTXSID90990466</td>\n",
       "      <td>150.0</td>\n",
       "    </tr>\n",
       "    <tr>\n",
       "      <th>7633</th>\n",
       "      <td>DTXSID90998205</td>\n",
       "      <td>200.0</td>\n",
       "    </tr>\n",
       "    <tr>\n",
       "      <th>7634</th>\n",
       "      <td>DTXSID9099876</td>\n",
       "      <td>1005.7</td>\n",
       "    </tr>\n",
       "  </tbody>\n",
       "</table>\n",
       "<p>7635 rows × 2 columns</p>\n",
       "</div>"
      ],
      "text/plain": [
       "               dtxsid  10ptile_POD\n",
       "0     DTXSID001004378        150.0\n",
       "1      DTXSID00100498        250.0\n",
       "2     DTXSID001005033        280.0\n",
       "3     DTXSID001006300        550.0\n",
       "4      DTXSID00100756       1000.0\n",
       "...               ...          ...\n",
       "7630    DTXSID9098147        450.0\n",
       "7631    DTXSID9098220        300.0\n",
       "7632   DTXSID90990466        150.0\n",
       "7633   DTXSID90998205        200.0\n",
       "7634    DTXSID9099876       1005.7\n",
       "\n",
       "[7635 rows x 2 columns]"
      ]
     },
     "execution_count": 20,
     "metadata": {},
     "output_type": "execute_result"
    }
   ],
   "source": [
    "oral_10pte =S1.loc[S1['dtxsid'] != 'NODTXSID']\n",
    "\n",
    "oral_10pte"
   ]
  },
  {
   "cell_type": "code",
   "execution_count": 21,
   "id": "ccbe6b06-15d7-46df-80c9-bbba46b52d19",
   "metadata": {},
   "outputs": [],
   "source": [
    "ids = pd.read_sql('''select * from oral_RDT_dtxsid''', toxvaldb)"
   ]
  },
  {
   "cell_type": "code",
   "execution_count": 22,
   "id": "b4299932-5334-49fa-8aca-f954fc6e1b50",
   "metadata": {},
   "outputs": [
    {
     "data": {
      "text/plain": [
       "Index(['index', 'Query', 'Found_By', 'DSSTox_Substance_Id',\n",
       "       'DSSTox_Structure_Id', 'DSSTox_QC-Level', 'Substance_Name',\n",
       "       'Substance_CASRN', 'Substance_Type', 'Substance_Note',\n",
       "       'Structure_SMILES', 'Structure_InChI', 'Structure_InChIKey',\n",
       "       'Structure_Formula', 'Structure_MolWt', 'Structure_SMILES_2D-QSAR',\n",
       "       'DateModified'],\n",
       "      dtype='object')"
      ]
     },
     "execution_count": 22,
     "metadata": {},
     "output_type": "execute_result"
    }
   ],
   "source": [
    "ids.columns"
   ]
  },
  {
   "cell_type": "code",
   "execution_count": 23,
   "id": "f6816116-4f77-43b7-ad18-af9a09b5c49a",
   "metadata": {},
   "outputs": [],
   "source": [
    "oral_10pte = pd.merge(oral_10pte, ids[['Query','DSSTox_Substance_Id','Substance_Name','Structure_MolWt', 'Structure_SMILES','Structure_SMILES_2D-QSAR']], left_on = 'dtxsid', right_on = 'Query', how = 'left')"
   ]
  },
  {
   "cell_type": "code",
   "execution_count": 24,
   "id": "430f9491-b2ec-4fcc-a5a2-f7bce14f7b89",
   "metadata": {},
   "outputs": [],
   "source": [
    "oral_10pte_smi = oral_10pte.dropna(subset=['Structure_SMILES_2D-QSAR'])"
   ]
  },
  {
   "cell_type": "code",
   "execution_count": 25,
   "id": "b3407f09-36ec-40fc-ac2e-ed8103f48bac",
   "metadata": {},
   "outputs": [],
   "source": [
    "oral_10pte_smi= oral_10pte_smi[['DSSTox_Substance_Id', 'Substance_Name',\n",
    "       'Structure_MolWt', 'Structure_SMILES', 'Structure_SMILES_2D-QSAR','10ptile_POD']]"
   ]
  },
  {
   "cell_type": "code",
   "execution_count": 26,
   "id": "55e3aff6-afa1-4a49-8135-24e131902113",
   "metadata": {},
   "outputs": [],
   "source": [
    "oral_10pte_smi['pPOD'] = oral_10pte_smi[['10ptile_POD', 'Structure_MolWt']].apply(lambda x: -np.log10(x['10ptile_POD']/x['Structure_MolWt']), axis = 1)"
   ]
  },
  {
   "cell_type": "code",
   "execution_count": 27,
   "id": "378e1861-f771-4727-8296-db9c6c74333a",
   "metadata": {},
   "outputs": [],
   "source": [
    "oral_10pte_smi.to_csv(interim_dir+'oral_10pte_smi_020723.csv')"
   ]
  },
  {
   "cell_type": "code",
   "execution_count": 28,
   "id": "7e18f989-8ea8-4d57-ae86-715f20d890fa",
   "metadata": {},
   "outputs": [
    {
     "data": {
      "text/html": [
       "<div>\n",
       "<style scoped>\n",
       "    .dataframe tbody tr th:only-of-type {\n",
       "        vertical-align: middle;\n",
       "    }\n",
       "\n",
       "    .dataframe tbody tr th {\n",
       "        vertical-align: top;\n",
       "    }\n",
       "\n",
       "    .dataframe thead th {\n",
       "        text-align: right;\n",
       "    }\n",
       "</style>\n",
       "<table border=\"1\" class=\"dataframe\">\n",
       "  <thead>\n",
       "    <tr style=\"text-align: right;\">\n",
       "      <th></th>\n",
       "      <th>DSSTox_Substance_Id</th>\n",
       "      <th>Substance_Name</th>\n",
       "      <th>Structure_MolWt</th>\n",
       "      <th>Structure_SMILES</th>\n",
       "      <th>Structure_SMILES_2D-QSAR</th>\n",
       "      <th>10ptile_POD</th>\n",
       "      <th>pPOD</th>\n",
       "    </tr>\n",
       "  </thead>\n",
       "  <tbody>\n",
       "    <tr>\n",
       "      <th>0</th>\n",
       "      <td>DTXSID001004378</td>\n",
       "      <td>4-tert-Butylcyclohexyl prop-2-enoate</td>\n",
       "      <td>210.317</td>\n",
       "      <td>CC(C)(C)C1CCC(CC1)OC(=O)C=C</td>\n",
       "      <td>CC(C)(C)C1CCC(CC1)OC(=O)C=C</td>\n",
       "      <td>150.00</td>\n",
       "      <td>0.146783</td>\n",
       "    </tr>\n",
       "    <tr>\n",
       "      <th>2</th>\n",
       "      <td>DTXSID001005033</td>\n",
       "      <td>Bis(2-ethylhexyl) cyclohexane-1,4-dicarboxylate</td>\n",
       "      <td>396.612</td>\n",
       "      <td>CCCCC(CC)COC(=O)C1CCC(CC1)C(=O)OCC(CC)CCCC</td>\n",
       "      <td>CCCCC(CC)COC(=O)C1CCC(CC1)C(=O)OCC(CC)CCCC</td>\n",
       "      <td>280.00</td>\n",
       "      <td>0.151208</td>\n",
       "    </tr>\n",
       "    <tr>\n",
       "      <th>3</th>\n",
       "      <td>DTXSID001006300</td>\n",
       "      <td>6-[(1-Hydroxy-2,4-dimethylheptylidene)amino]he...</td>\n",
       "      <td>420.591</td>\n",
       "      <td>OCCN(CCO)CCO.CCCC(C)CC(C)C(O)=NCCCCCC(O)=O</td>\n",
       "      <td>CCCC(C)CC(C)C(=O)NCCCCCC(O)=O</td>\n",
       "      <td>550.00</td>\n",
       "      <td>-0.116503</td>\n",
       "    </tr>\n",
       "    <tr>\n",
       "      <th>6</th>\n",
       "      <td>DTXSID001009930</td>\n",
       "      <td>Thialdine</td>\n",
       "      <td>163.300</td>\n",
       "      <td>C[C@H]1N[C@@H](C)S[C@@H](C)S1</td>\n",
       "      <td>CC1NC(C)SC(C)S1</td>\n",
       "      <td>9.30</td>\n",
       "      <td>1.244503</td>\n",
       "    </tr>\n",
       "    <tr>\n",
       "      <th>16</th>\n",
       "      <td>DTXSID001014636</td>\n",
       "      <td>1-(2-Hydroxy-3-sulphonatopropyl)pyridinium</td>\n",
       "      <td>217.240</td>\n",
       "      <td>OC(C[N+]1=CC=CC=C1)CS([O-])(=O)=O</td>\n",
       "      <td>OC(C[N+]1=CC=CC=C1)CS([O-])(=O)=O</td>\n",
       "      <td>1000.00</td>\n",
       "      <td>-0.663060</td>\n",
       "    </tr>\n",
       "    <tr>\n",
       "      <th>...</th>\n",
       "      <td>...</td>\n",
       "      <td>...</td>\n",
       "      <td>...</td>\n",
       "      <td>...</td>\n",
       "      <td>...</td>\n",
       "      <td>...</td>\n",
       "      <td>...</td>\n",
       "    </tr>\n",
       "    <tr>\n",
       "      <th>7627</th>\n",
       "      <td>DTXSID90968887</td>\n",
       "      <td>Methyl 3-sulfanylbutanoate</td>\n",
       "      <td>134.190</td>\n",
       "      <td>COC(=O)CC(C)S</td>\n",
       "      <td>COC(=O)CC(C)S</td>\n",
       "      <td>0.06</td>\n",
       "      <td>3.349569</td>\n",
       "    </tr>\n",
       "    <tr>\n",
       "      <th>7628</th>\n",
       "      <td>DTXSID90976780</td>\n",
       "      <td>3-[(2-Methylfuran-3-yl)sulfanyl]butan-2-one</td>\n",
       "      <td>184.250</td>\n",
       "      <td>CC(SC1=C(C)OC=C1)C(C)=O</td>\n",
       "      <td>CC(SC1=C(C)OC=C1)C(C)=O</td>\n",
       "      <td>3.76</td>\n",
       "      <td>1.690220</td>\n",
       "    </tr>\n",
       "    <tr>\n",
       "      <th>7629</th>\n",
       "      <td>DTXSID90978461</td>\n",
       "      <td>Heptane-2-thiol</td>\n",
       "      <td>132.270</td>\n",
       "      <td>CCCCCC(C)S</td>\n",
       "      <td>CCCCCC(C)S</td>\n",
       "      <td>0.06</td>\n",
       "      <td>3.343310</td>\n",
       "    </tr>\n",
       "    <tr>\n",
       "      <th>7632</th>\n",
       "      <td>DTXSID90990466</td>\n",
       "      <td>3-Amino-N-(8-hydroxy-4,6-disulfonaphthalen-1-y...</td>\n",
       "      <td>438.430</td>\n",
       "      <td>NC1=CC=CC(=C1)C(O)=NC1=C2C(O)=CC(=CC2=C(C=C1)S...</td>\n",
       "      <td>NC1=CC=CC(=C1)C(O)=NC1=C2C(O)=CC(=CC2=C(C=C1)S...</td>\n",
       "      <td>150.00</td>\n",
       "      <td>0.465809</td>\n",
       "    </tr>\n",
       "    <tr>\n",
       "      <th>7633</th>\n",
       "      <td>DTXSID90998205</td>\n",
       "      <td>3-Hydroxy-N-(2-hydroxy-1H-benzimidazol-6-yl)na...</td>\n",
       "      <td>343.318</td>\n",
       "      <td>[NaH].OC(=NC1=CC2=C(C=C1)N=C(O)N2)C1=CC2=CC=CC...</td>\n",
       "      <td>OC1=C(C=C2C=CC=CC2=C1)C(=O)NC1=CC=C2NC(=O)NC2=C1</td>\n",
       "      <td>200.00</td>\n",
       "      <td>0.234667</td>\n",
       "    </tr>\n",
       "  </tbody>\n",
       "</table>\n",
       "<p>5321 rows × 7 columns</p>\n",
       "</div>"
      ],
      "text/plain": [
       "     DSSTox_Substance_Id                                     Substance_Name  \\\n",
       "0        DTXSID001004378               4-tert-Butylcyclohexyl prop-2-enoate   \n",
       "2        DTXSID001005033    Bis(2-ethylhexyl) cyclohexane-1,4-dicarboxylate   \n",
       "3        DTXSID001006300  6-[(1-Hydroxy-2,4-dimethylheptylidene)amino]he...   \n",
       "6        DTXSID001009930                                          Thialdine   \n",
       "16       DTXSID001014636         1-(2-Hydroxy-3-sulphonatopropyl)pyridinium   \n",
       "...                  ...                                                ...   \n",
       "7627      DTXSID90968887                         Methyl 3-sulfanylbutanoate   \n",
       "7628      DTXSID90976780        3-[(2-Methylfuran-3-yl)sulfanyl]butan-2-one   \n",
       "7629      DTXSID90978461                                    Heptane-2-thiol   \n",
       "7632      DTXSID90990466  3-Amino-N-(8-hydroxy-4,6-disulfonaphthalen-1-y...   \n",
       "7633      DTXSID90998205  3-Hydroxy-N-(2-hydroxy-1H-benzimidazol-6-yl)na...   \n",
       "\n",
       "      Structure_MolWt                                   Structure_SMILES  \\\n",
       "0             210.317                        CC(C)(C)C1CCC(CC1)OC(=O)C=C   \n",
       "2             396.612         CCCCC(CC)COC(=O)C1CCC(CC1)C(=O)OCC(CC)CCCC   \n",
       "3             420.591         OCCN(CCO)CCO.CCCC(C)CC(C)C(O)=NCCCCCC(O)=O   \n",
       "6             163.300                      C[C@H]1N[C@@H](C)S[C@@H](C)S1   \n",
       "16            217.240                  OC(C[N+]1=CC=CC=C1)CS([O-])(=O)=O   \n",
       "...               ...                                                ...   \n",
       "7627          134.190                                      COC(=O)CC(C)S   \n",
       "7628          184.250                            CC(SC1=C(C)OC=C1)C(C)=O   \n",
       "7629          132.270                                         CCCCCC(C)S   \n",
       "7632          438.430  NC1=CC=CC(=C1)C(O)=NC1=C2C(O)=CC(=CC2=C(C=C1)S...   \n",
       "7633          343.318  [NaH].OC(=NC1=CC2=C(C=C1)N=C(O)N2)C1=CC2=CC=CC...   \n",
       "\n",
       "                               Structure_SMILES_2D-QSAR  10ptile_POD      pPOD  \n",
       "0                           CC(C)(C)C1CCC(CC1)OC(=O)C=C       150.00  0.146783  \n",
       "2            CCCCC(CC)COC(=O)C1CCC(CC1)C(=O)OCC(CC)CCCC       280.00  0.151208  \n",
       "3                         CCCC(C)CC(C)C(=O)NCCCCCC(O)=O       550.00 -0.116503  \n",
       "6                                       CC1NC(C)SC(C)S1         9.30  1.244503  \n",
       "16                    OC(C[N+]1=CC=CC=C1)CS([O-])(=O)=O      1000.00 -0.663060  \n",
       "...                                                 ...          ...       ...  \n",
       "7627                                      COC(=O)CC(C)S         0.06  3.349569  \n",
       "7628                            CC(SC1=C(C)OC=C1)C(C)=O         3.76  1.690220  \n",
       "7629                                         CCCCCC(C)S         0.06  3.343310  \n",
       "7632  NC1=CC=CC(=C1)C(O)=NC1=C2C(O)=CC(=CC2=C(C=C1)S...       150.00  0.465809  \n",
       "7633   OC1=C(C=C2C=CC=CC2=C1)C(=O)NC1=CC=C2NC(=O)NC2=C1       200.00  0.234667  \n",
       "\n",
       "[5321 rows x 7 columns]"
      ]
     },
     "execution_count": 28,
     "metadata": {},
     "output_type": "execute_result"
    }
   ],
   "source": [
    "oral_10pte_smi"
   ]
  },
  {
   "cell_type": "code",
   "execution_count": null,
   "id": "42e3180b-afa2-4868-8eb3-6bcd5831a5aa",
   "metadata": {},
   "outputs": [],
   "source": []
  }
 ],
 "metadata": {
  "kernelspec": {
   "display_name": "py39",
   "language": "python",
   "name": "py39"
  },
  "language_info": {
   "codemirror_mode": {
    "name": "ipython",
    "version": 3
   },
   "file_extension": ".py",
   "mimetype": "text/x-python",
   "name": "python",
   "nbconvert_exporter": "python",
   "pygments_lexer": "ipython3",
   "version": "3.9.16"
  },
  "widgets": {
   "application/vnd.jupyter.widget-state+json": {
    "state": {},
    "version_major": 2,
    "version_minor": 0
   }
  }
 },
 "nbformat": 4,
 "nbformat_minor": 5
}
